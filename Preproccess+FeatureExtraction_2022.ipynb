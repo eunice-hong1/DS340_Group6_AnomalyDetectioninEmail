{
 "cells": [
  {
   "cell_type": "markdown",
   "metadata": {
    "id": "sCMEqns8jY-1"
   },
   "source": [
    "# **Importing the Data**"
   ]
  },
  {
   "cell_type": "code",
   "execution_count": 1,
   "metadata": {
    "colab": {
     "base_uri": "https://localhost:8080/",
     "height": 0
    },
    "id": "b6HipOhgjHWT",
    "outputId": "b351bbf5-2c6f-45de-f8db-089b43e5fc84"
   },
   "outputs": [],
   "source": [
    "import numpy as np\n",
    "import pandas as pd\n",
    "\n",
    "pd.set_option('display.max_colwidth', None)\n",
    "\n",
    "FILE_NAME = 'Phishing Dataset/phishing_out_2022.csv'\n",
    "df = pd.read_csv(FILE_NAME)"
   ]
  },
  {
   "cell_type": "code",
   "execution_count": 2,
   "metadata": {},
   "outputs": [],
   "source": [
    "desiredcols = ['received1',\n",
    " 'received2',\n",
    " 'received3',\n",
    " 'received4',\n",
    " 'received5',\n",
    " 'received6',\n",
    " 'received7',\n",
    " 'hops',\n",
    " 'subject',\n",
    " 'date',\n",
    " 'message-id',\n",
    " 'from',\n",
    " 'return-path',\n",
    " 'to',\n",
    " 'content-type',\n",
    " 'mime-version',\n",
    " 'x-mailer',\n",
    " 'content-transfer-encoding',\n",
    " 'x-mimeole',\n",
    " 'x-priority',\n",
    " 'list-id',\n",
    " 'x-virus-scanned',\n",
    " 'status',\n",
    " 'content-length',\n",
    " 'delivered-to',\n",
    " 'list-unsubscribe',\n",
    " 'x-msmail-priority',\n",
    " 'x-spam-status',\n",
    " 'sender',\n",
    " 'reply-to',\n",
    " 'x-virus-status',\n",
    " 'x-spam-level',\n",
    " 'x-spam-checker-version',\n",
    " 'references',\n",
    " 'in-reply-to',\n",
    " 'user-agent',\n",
    " 'thread-index',\n",
    " 'received-spf',\n",
    " 'content-disposition',\n",
    " 'domainkey-signature',\n",
    " 'importance',\n",
    " 'label',\n",
    " 'precedence',\n",
    " 'received8',\n",
    " 'cc']"
   ]
  },
  {
   "cell_type": "code",
   "execution_count": 3,
   "metadata": {},
   "outputs": [],
   "source": [
    "# Fill in missing columns from each dataframe and fill with nan values\n",
    "for col in desiredcols:\n",
    "    if col not in df.columns:\n",
    "        df[col] = np.nan"
   ]
  },
  {
   "cell_type": "code",
   "execution_count": 4,
   "metadata": {},
   "outputs": [
    {
     "data": {
      "text/plain": [
       "(245, 45)"
      ]
     },
     "execution_count": 4,
     "metadata": {},
     "output_type": "execute_result"
    }
   ],
   "source": [
    "df.shape"
   ]
  },
  {
   "cell_type": "markdown",
   "metadata": {
    "id": "F5A997Ekjh0E"
   },
   "source": [
    "# **Basic Information on the Dataset**"
   ]
  },
  {
   "cell_type": "code",
   "execution_count": 5,
   "metadata": {
    "colab": {
     "base_uri": "https://localhost:8080/"
    },
    "id": "O_xJ0A0H_zBm",
    "outputId": "70d87272-0c02-42b6-f400-92c762637e68"
   },
   "outputs": [
    {
     "data": {
      "text/plain": [
       "label\n",
       "2    245\n",
       "Name: count, dtype: int64"
      ]
     },
     "execution_count": 5,
     "metadata": {},
     "output_type": "execute_result"
    }
   ],
   "source": [
    "df['label'].value_counts()"
   ]
  },
  {
   "cell_type": "code",
   "execution_count": 6,
   "metadata": {
    "colab": {
     "base_uri": "https://localhost:8080/"
    },
    "id": "jaL0Jn_dCHhF",
    "outputId": "8a95f21b-00fc-4b26-b224-82e6609a357b"
   },
   "outputs": [
    {
     "data": {
      "text/plain": [
       "array(['received1', 'received2', 'received3', 'received4', 'received5',\n",
       "       'received6', 'received7', 'received8', 'hops', 'subject', 'date',\n",
       "       'message-id', 'from', 'return-path', 'to', 'content-type',\n",
       "       'mime-version', 'x-mailer', 'content-transfer-encoding',\n",
       "       'x-mimeole', 'x-priority', 'x-virus-scanned', 'status',\n",
       "       'delivered-to', 'list-unsubscribe', 'x-msmail-priority',\n",
       "       'x-spam-status', 'sender', 'reply-to', 'x-spam-level',\n",
       "       'x-spam-checker-version', 'thread-index', 'cc', 'received-spf',\n",
       "       'domainkey-signature', 'importance', 'label', 'list-id',\n",
       "       'content-length', 'x-virus-status', 'references', 'in-reply-to',\n",
       "       'user-agent', 'content-disposition', 'precedence'], dtype=object)"
      ]
     },
     "execution_count": 6,
     "metadata": {},
     "output_type": "execute_result"
    }
   ],
   "source": [
    "df.columns.values"
   ]
  },
  {
   "cell_type": "code",
   "execution_count": 7,
   "metadata": {
    "colab": {
     "base_uri": "https://localhost:8080/"
    },
    "id": "TTJ6yHs1jqOV",
    "outputId": "1c7d15d0-c5d2-46c8-e9e9-e905e2ce2a97"
   },
   "outputs": [
    {
     "name": "stdout",
     "output_type": "stream",
     "text": [
      "<class 'pandas.core.frame.DataFrame'>\n",
      "RangeIndex: 245 entries, 0 to 244\n",
      "Data columns (total 45 columns):\n",
      " #   Column                     Non-Null Count  Dtype  \n",
      "---  ------                     --------------  -----  \n",
      " 0   received1                  245 non-null    object \n",
      " 1   received2                  138 non-null    object \n",
      " 2   received3                  65 non-null     object \n",
      " 3   received4                  19 non-null     object \n",
      " 4   received5                  9 non-null      object \n",
      " 5   received6                  7 non-null      object \n",
      " 6   received7                  1 non-null      object \n",
      " 7   received8                  1 non-null      object \n",
      " 8   hops                       245 non-null    int64  \n",
      " 9   subject                    244 non-null    object \n",
      " 10  date                       245 non-null    object \n",
      " 11  message-id                 235 non-null    object \n",
      " 12  from                       245 non-null    object \n",
      " 13  return-path                245 non-null    object \n",
      " 14  to                         241 non-null    object \n",
      " 15  content-type               245 non-null    object \n",
      " 16  mime-version               244 non-null    object \n",
      " 17  x-mailer                   10 non-null     object \n",
      " 18  content-transfer-encoding  122 non-null    object \n",
      " 19  x-mimeole                  5 non-null      object \n",
      " 20  x-priority                 8 non-null      float64\n",
      " 21  x-virus-scanned            7 non-null      object \n",
      " 22  status                     245 non-null    object \n",
      " 23  delivered-to               245 non-null    object \n",
      " 24  list-unsubscribe           8 non-null      object \n",
      " 25  x-msmail-priority          3 non-null      object \n",
      " 26  x-spam-status              245 non-null    object \n",
      " 27  sender                     4 non-null      object \n",
      " 28  reply-to                   17 non-null     object \n",
      " 29  x-spam-level               5 non-null      object \n",
      " 30  x-spam-checker-version     2 non-null      object \n",
      " 31  thread-index               5 non-null      object \n",
      " 32  cc                         1 non-null      object \n",
      " 33  received-spf               4 non-null      object \n",
      " 34  domainkey-signature        15 non-null     object \n",
      " 35  importance                 3 non-null      object \n",
      " 36  label                      245 non-null    int64  \n",
      " 37  list-id                    0 non-null      float64\n",
      " 38  content-length             0 non-null      float64\n",
      " 39  x-virus-status             0 non-null      float64\n",
      " 40  references                 0 non-null      float64\n",
      " 41  in-reply-to                0 non-null      float64\n",
      " 42  user-agent                 0 non-null      float64\n",
      " 43  content-disposition        0 non-null      float64\n",
      " 44  precedence                 0 non-null      float64\n",
      "dtypes: float64(9), int64(2), object(34)\n",
      "memory usage: 86.3+ KB\n"
     ]
    }
   ],
   "source": [
    "df.info()"
   ]
  },
  {
   "cell_type": "code",
   "execution_count": 8,
   "metadata": {
    "colab": {
     "base_uri": "https://localhost:8080/"
    },
    "id": "q_nCfCJyjvBm",
    "outputId": "a5a03c7d-f947-4d02-b834-909f634bf4ed"
   },
   "outputs": [
    {
     "data": {
      "text/plain": [
       "received1                    245\n",
       "received2                    138\n",
       "received3                     65\n",
       "received4                     19\n",
       "received5                      9\n",
       "received6                      7\n",
       "received7                      1\n",
       "received8                      1\n",
       "hops                           7\n",
       "subject                      177\n",
       "date                         245\n",
       "message-id                   235\n",
       "from                         223\n",
       "return-path                  204\n",
       "to                            12\n",
       "content-type                 144\n",
       "mime-version                   2\n",
       "x-mailer                       9\n",
       "content-transfer-encoding      4\n",
       "x-mimeole                      4\n",
       "x-priority                     3\n",
       "x-virus-scanned                5\n",
       "status                         2\n",
       "delivered-to                   1\n",
       "list-unsubscribe               8\n",
       "x-msmail-priority              1\n",
       "x-spam-status                197\n",
       "sender                         4\n",
       "reply-to                      16\n",
       "x-spam-level                   3\n",
       "x-spam-checker-version         2\n",
       "thread-index                   5\n",
       "cc                             1\n",
       "received-spf                   2\n",
       "domainkey-signature           15\n",
       "importance                     2\n",
       "label                          1\n",
       "list-id                        0\n",
       "content-length                 0\n",
       "x-virus-status                 0\n",
       "references                     0\n",
       "in-reply-to                    0\n",
       "user-agent                     0\n",
       "content-disposition            0\n",
       "precedence                     0\n",
       "dtype: int64"
      ]
     },
     "execution_count": 8,
     "metadata": {},
     "output_type": "execute_result"
    }
   ],
   "source": [
    "df.nunique()"
   ]
  },
  {
   "cell_type": "code",
   "execution_count": 9,
   "metadata": {
    "colab": {
     "base_uri": "https://localhost:8080/",
     "height": 0
    },
    "id": "vULIxJnMjxn5",
    "outputId": "ebea5855-b458-45ee-c76b-eeecde1f8045"
   },
   "outputs": [
    {
     "data": {
      "text/html": [
       "<div>\n",
       "<style scoped>\n",
       "    .dataframe tbody tr th:only-of-type {\n",
       "        vertical-align: middle;\n",
       "    }\n",
       "\n",
       "    .dataframe tbody tr th {\n",
       "        vertical-align: top;\n",
       "    }\n",
       "\n",
       "    .dataframe thead th {\n",
       "        text-align: right;\n",
       "    }\n",
       "</style>\n",
       "<table border=\"1\" class=\"dataframe\">\n",
       "  <thead>\n",
       "    <tr style=\"text-align: right;\">\n",
       "      <th></th>\n",
       "      <th>hops</th>\n",
       "      <th>x-priority</th>\n",
       "      <th>label</th>\n",
       "      <th>list-id</th>\n",
       "      <th>content-length</th>\n",
       "      <th>x-virus-status</th>\n",
       "      <th>references</th>\n",
       "      <th>in-reply-to</th>\n",
       "      <th>user-agent</th>\n",
       "      <th>content-disposition</th>\n",
       "      <th>precedence</th>\n",
       "    </tr>\n",
       "  </thead>\n",
       "  <tbody>\n",
       "    <tr>\n",
       "      <th>count</th>\n",
       "      <td>245.000000</td>\n",
       "      <td>8.000000</td>\n",
       "      <td>245.0</td>\n",
       "      <td>0.0</td>\n",
       "      <td>0.0</td>\n",
       "      <td>0.0</td>\n",
       "      <td>0.0</td>\n",
       "      <td>0.0</td>\n",
       "      <td>0.0</td>\n",
       "      <td>0.0</td>\n",
       "      <td>0.0</td>\n",
       "    </tr>\n",
       "    <tr>\n",
       "      <th>mean</th>\n",
       "      <td>1.979592</td>\n",
       "      <td>2.375000</td>\n",
       "      <td>2.0</td>\n",
       "      <td>NaN</td>\n",
       "      <td>NaN</td>\n",
       "      <td>NaN</td>\n",
       "      <td>NaN</td>\n",
       "      <td>NaN</td>\n",
       "      <td>NaN</td>\n",
       "      <td>NaN</td>\n",
       "      <td>NaN</td>\n",
       "    </tr>\n",
       "    <tr>\n",
       "      <th>std</th>\n",
       "      <td>1.185462</td>\n",
       "      <td>0.744024</td>\n",
       "      <td>0.0</td>\n",
       "      <td>NaN</td>\n",
       "      <td>NaN</td>\n",
       "      <td>NaN</td>\n",
       "      <td>NaN</td>\n",
       "      <td>NaN</td>\n",
       "      <td>NaN</td>\n",
       "      <td>NaN</td>\n",
       "      <td>NaN</td>\n",
       "    </tr>\n",
       "    <tr>\n",
       "      <th>min</th>\n",
       "      <td>1.000000</td>\n",
       "      <td>1.000000</td>\n",
       "      <td>2.0</td>\n",
       "      <td>NaN</td>\n",
       "      <td>NaN</td>\n",
       "      <td>NaN</td>\n",
       "      <td>NaN</td>\n",
       "      <td>NaN</td>\n",
       "      <td>NaN</td>\n",
       "      <td>NaN</td>\n",
       "      <td>NaN</td>\n",
       "    </tr>\n",
       "    <tr>\n",
       "      <th>25%</th>\n",
       "      <td>1.000000</td>\n",
       "      <td>2.000000</td>\n",
       "      <td>2.0</td>\n",
       "      <td>NaN</td>\n",
       "      <td>NaN</td>\n",
       "      <td>NaN</td>\n",
       "      <td>NaN</td>\n",
       "      <td>NaN</td>\n",
       "      <td>NaN</td>\n",
       "      <td>NaN</td>\n",
       "      <td>NaN</td>\n",
       "    </tr>\n",
       "    <tr>\n",
       "      <th>50%</th>\n",
       "      <td>2.000000</td>\n",
       "      <td>2.500000</td>\n",
       "      <td>2.0</td>\n",
       "      <td>NaN</td>\n",
       "      <td>NaN</td>\n",
       "      <td>NaN</td>\n",
       "      <td>NaN</td>\n",
       "      <td>NaN</td>\n",
       "      <td>NaN</td>\n",
       "      <td>NaN</td>\n",
       "      <td>NaN</td>\n",
       "    </tr>\n",
       "    <tr>\n",
       "      <th>75%</th>\n",
       "      <td>3.000000</td>\n",
       "      <td>3.000000</td>\n",
       "      <td>2.0</td>\n",
       "      <td>NaN</td>\n",
       "      <td>NaN</td>\n",
       "      <td>NaN</td>\n",
       "      <td>NaN</td>\n",
       "      <td>NaN</td>\n",
       "      <td>NaN</td>\n",
       "      <td>NaN</td>\n",
       "      <td>NaN</td>\n",
       "    </tr>\n",
       "    <tr>\n",
       "      <th>max</th>\n",
       "      <td>8.000000</td>\n",
       "      <td>3.000000</td>\n",
       "      <td>2.0</td>\n",
       "      <td>NaN</td>\n",
       "      <td>NaN</td>\n",
       "      <td>NaN</td>\n",
       "      <td>NaN</td>\n",
       "      <td>NaN</td>\n",
       "      <td>NaN</td>\n",
       "      <td>NaN</td>\n",
       "      <td>NaN</td>\n",
       "    </tr>\n",
       "  </tbody>\n",
       "</table>\n",
       "</div>"
      ],
      "text/plain": [
       "             hops  x-priority  label  list-id  content-length  x-virus-status  \\\n",
       "count  245.000000    8.000000  245.0      0.0             0.0             0.0   \n",
       "mean     1.979592    2.375000    2.0      NaN             NaN             NaN   \n",
       "std      1.185462    0.744024    0.0      NaN             NaN             NaN   \n",
       "min      1.000000    1.000000    2.0      NaN             NaN             NaN   \n",
       "25%      1.000000    2.000000    2.0      NaN             NaN             NaN   \n",
       "50%      2.000000    2.500000    2.0      NaN             NaN             NaN   \n",
       "75%      3.000000    3.000000    2.0      NaN             NaN             NaN   \n",
       "max      8.000000    3.000000    2.0      NaN             NaN             NaN   \n",
       "\n",
       "       references  in-reply-to  user-agent  content-disposition  precedence  \n",
       "count         0.0          0.0         0.0                  0.0         0.0  \n",
       "mean          NaN          NaN         NaN                  NaN         NaN  \n",
       "std           NaN          NaN         NaN                  NaN         NaN  \n",
       "min           NaN          NaN         NaN                  NaN         NaN  \n",
       "25%           NaN          NaN         NaN                  NaN         NaN  \n",
       "50%           NaN          NaN         NaN                  NaN         NaN  \n",
       "75%           NaN          NaN         NaN                  NaN         NaN  \n",
       "max           NaN          NaN         NaN                  NaN         NaN  "
      ]
     },
     "execution_count": 9,
     "metadata": {},
     "output_type": "execute_result"
    }
   ],
   "source": [
    "df.describe()"
   ]
  },
  {
   "cell_type": "code",
   "execution_count": 10,
   "metadata": {
    "colab": {
     "base_uri": "https://localhost:8080/"
    },
    "id": "2r_eUn1cAmjg",
    "outputId": "da5950a6-1ff0-45d4-b777-318c70374506"
   },
   "outputs": [
    {
     "data": {
      "text/plain": [
       "(245, 45)"
      ]
     },
     "execution_count": 10,
     "metadata": {},
     "output_type": "execute_result"
    }
   ],
   "source": [
    "df.shape"
   ]
  },
  {
   "cell_type": "markdown",
   "metadata": {
    "id": "hokOGyXVNaM0"
   },
   "source": [
    "Most columns have missing values:"
   ]
  },
  {
   "cell_type": "code",
   "execution_count": 11,
   "metadata": {
    "colab": {
     "base_uri": "https://localhost:8080/"
    },
    "id": "KPZGGmPzNN_b",
    "outputId": "ae35e608-764c-43ab-b838-cf75350b6ac3"
   },
   "outputs": [
    {
     "data": {
      "text/plain": [
       "['received2',\n",
       " 'received3',\n",
       " 'received4',\n",
       " 'received5',\n",
       " 'received6',\n",
       " 'received7',\n",
       " 'received8',\n",
       " 'subject',\n",
       " 'message-id',\n",
       " 'to',\n",
       " 'mime-version',\n",
       " 'x-mailer',\n",
       " 'content-transfer-encoding',\n",
       " 'x-mimeole',\n",
       " 'x-priority',\n",
       " 'x-virus-scanned',\n",
       " 'list-unsubscribe',\n",
       " 'x-msmail-priority',\n",
       " 'sender',\n",
       " 'reply-to',\n",
       " 'x-spam-level',\n",
       " 'x-spam-checker-version',\n",
       " 'thread-index',\n",
       " 'cc',\n",
       " 'received-spf',\n",
       " 'domainkey-signature',\n",
       " 'importance',\n",
       " 'list-id',\n",
       " 'content-length',\n",
       " 'x-virus-status',\n",
       " 'references',\n",
       " 'in-reply-to',\n",
       " 'user-agent',\n",
       " 'content-disposition',\n",
       " 'precedence']"
      ]
     },
     "execution_count": 11,
     "metadata": {},
     "output_type": "execute_result"
    }
   ],
   "source": [
    "df.columns[df.isna().any()].tolist()"
   ]
  },
  {
   "cell_type": "markdown",
   "metadata": {
    "id": "PVY3L1peNdRB"
   },
   "source": [
    "These do not have missing values:"
   ]
  },
  {
   "cell_type": "code",
   "execution_count": 12,
   "metadata": {
    "colab": {
     "base_uri": "https://localhost:8080/"
    },
    "id": "2Aeul7r7NRFR",
    "outputId": "1a8d7cea-cdc1-4849-94f5-3cc794c3d303"
   },
   "outputs": [
    {
     "data": {
      "text/plain": [
       "['received1',\n",
       " 'hops',\n",
       " 'date',\n",
       " 'from',\n",
       " 'return-path',\n",
       " 'content-type',\n",
       " 'status',\n",
       " 'delivered-to',\n",
       " 'x-spam-status',\n",
       " 'label']"
      ]
     },
     "execution_count": 12,
     "metadata": {},
     "output_type": "execute_result"
    }
   ],
   "source": [
    "df.columns[~df.isna().any()].tolist()"
   ]
  },
  {
   "cell_type": "code",
   "execution_count": 13,
   "metadata": {},
   "outputs": [
    {
     "data": {
      "text/plain": [
       "Index(['received1', 'received2', 'received3', 'received4', 'received5',\n",
       "       'received6', 'received7', 'received8', 'hops', 'subject', 'date',\n",
       "       'message-id', 'from', 'return-path', 'to', 'content-type',\n",
       "       'mime-version', 'x-mailer', 'content-transfer-encoding', 'x-mimeole',\n",
       "       'x-priority', 'x-virus-scanned', 'status', 'delivered-to',\n",
       "       'list-unsubscribe', 'x-msmail-priority', 'x-spam-status', 'sender',\n",
       "       'reply-to', 'x-spam-level', 'x-spam-checker-version', 'thread-index',\n",
       "       'cc', 'received-spf', 'domainkey-signature', 'importance', 'label',\n",
       "       'list-id', 'content-length', 'x-virus-status', 'references',\n",
       "       'in-reply-to', 'user-agent', 'content-disposition', 'precedence'],\n",
       "      dtype='object')"
      ]
     },
     "execution_count": 13,
     "metadata": {},
     "output_type": "execute_result"
    }
   ],
   "source": [
    "df.columns"
   ]
  },
  {
   "cell_type": "markdown",
   "metadata": {
    "id": "pfiWegtPj4q8"
   },
   "source": [
    "# **---------- Data Preprocessing -----------------------------**"
   ]
  },
  {
   "cell_type": "markdown",
   "metadata": {
    "id": "KvWjb8GwOM-y"
   },
   "source": [
    "# **Initial Setup**"
   ]
  },
  {
   "cell_type": "code",
   "execution_count": 14,
   "metadata": {
    "id": "r_f_APuIN-eT"
   },
   "outputs": [],
   "source": [
    "initial_features_list = ['received1', 'received2', 'received3', 'received4', 'received5',\n",
    "       'received6', 'received7', 'received8', 'hops', 'subject', 'date',\n",
    "       'message-id', 'from', 'return-path', 'to', 'content-type',\n",
    "       'mime-version', 'x-mailer', 'content-transfer-encoding', 'x-mimeole',\n",
    "       'x-priority', 'x-virus-scanned', 'status', 'delivered-to',\n",
    "       'list-unsubscribe', 'x-msmail-priority', 'x-spam-status', 'sender',\n",
    "       'reply-to', 'x-spam-level', 'x-spam-checker-version', 'thread-index',\n",
    "       'cc', 'received-spf', 'domainkey-signature', 'importance', 'label']\n",
    "\n",
    "label_name = 'label'\n",
    "\n",
    "final_features_list = ['hops']"
   ]
  },
  {
   "cell_type": "markdown",
   "metadata": {
    "id": "rJJ4WHSBFTWc"
   },
   "source": [
    "# **Feature: \"Missing Fields**\""
   ]
  },
  {
   "cell_type": "markdown",
   "metadata": {
    "id": "uALkwpDyGI18"
   },
   "source": [
    "Feature extraction: Creates one new feature per header field based on whether they're missing (NaN) from an email or not. If they're present, a value of 0 is assigned, otherwise 1 if they're missing. \n",
    "\n",
    "---\n",
    "\n"
   ]
  },
  {
   "cell_type": "code",
   "execution_count": 15,
   "metadata": {
    "colab": {
     "base_uri": "https://localhost:8080/"
    },
    "id": "f21IqeoQPgQA",
    "outputId": "abadb12c-522b-4a65-b57a-4bc81da67205"
   },
   "outputs": [
    {
     "data": {
      "text/plain": [
       "(245, 45)"
      ]
     },
     "execution_count": 15,
     "metadata": {},
     "output_type": "execute_result"
    }
   ],
   "source": [
    "df.shape"
   ]
  },
  {
   "cell_type": "code",
   "execution_count": 16,
   "metadata": {
    "id": "vpWDCXg8GIWL"
   },
   "outputs": [],
   "source": [
    "missing_feature_names = []\n",
    "\n",
    "for name in initial_features_list:\n",
    "  missing_feature_names.append('missing_' + name)\n",
    "\n",
    "for feature, name in zip(initial_features_list, missing_feature_names):\n",
    "  df.loc[df[feature].isnull(), name] = 1\n",
    "  df.loc[~df[feature].isnull(), name] = 0\n",
    "\n",
    "final_features_list.extend(missing_feature_names)"
   ]
  },
  {
   "cell_type": "code",
   "execution_count": 17,
   "metadata": {
    "colab": {
     "base_uri": "https://localhost:8080/"
    },
    "id": "wRa5v3ykPeDI",
    "outputId": "9547934b-0f21-45bf-e017-7dc4bc19e9f9"
   },
   "outputs": [
    {
     "data": {
      "text/plain": [
       "(245, 82)"
      ]
     },
     "execution_count": 17,
     "metadata": {},
     "output_type": "execute_result"
    }
   ],
   "source": [
    "df.shape"
   ]
  },
  {
   "cell_type": "code",
   "execution_count": 18,
   "metadata": {
    "colab": {
     "base_uri": "https://localhost:8080/"
    },
    "id": "Bmc1DtBfJ7w9",
    "outputId": "b344854a-6a11-4ca1-b0a5-9b940e4ed47e"
   },
   "outputs": [
    {
     "data": {
      "text/plain": [
       "missing_return-path\n",
       "0.0    245\n",
       "Name: count, dtype: int64"
      ]
     },
     "execution_count": 18,
     "metadata": {},
     "output_type": "execute_result"
    }
   ],
   "source": [
    "df['missing_return-path'].value_counts()"
   ]
  },
  {
   "cell_type": "code",
   "execution_count": 19,
   "metadata": {
    "colab": {
     "base_uri": "https://localhost:8080/"
    },
    "id": "ptzoeTrAK0FU",
    "outputId": "855f6024-4e77-4d19-cc44-1bea7d046fad"
   },
   "outputs": [
    {
     "data": {
      "text/plain": [
       "missing_x-mailer\n",
       "1.0    235\n",
       "0.0     10\n",
       "Name: count, dtype: int64"
      ]
     },
     "execution_count": 19,
     "metadata": {},
     "output_type": "execute_result"
    }
   ],
   "source": [
    "df['missing_x-mailer'].value_counts()"
   ]
  },
  {
   "cell_type": "markdown",
   "metadata": {
    "id": "nqHSyA4SyJ7K"
   },
   "source": [
    "# **Dealing with NaN:**"
   ]
  },
  {
   "cell_type": "code",
   "execution_count": 20,
   "metadata": {
    "id": "MLoASFJOyNCX"
   },
   "outputs": [],
   "source": [
    "df = df.replace(np.nan, '', regex=True)"
   ]
  },
  {
   "cell_type": "markdown",
   "metadata": {
    "id": "2S8P6ibWQGus"
   },
   "source": [
    "# **Feature: \"String Content Matching\"**"
   ]
  },
  {
   "cell_type": "markdown",
   "metadata": {
    "id": "18FftIBRSjba"
   },
   "source": [
    "Checks are done for the following things items, where 1 represents it does contain that thing, 0 represents it does NOT contain it: "
   ]
  },
  {
   "cell_type": "markdown",
   "metadata": {
    "id": "WQkCDZ6qSx3T"
   },
   "source": [
    "'From': contains '?', '!', or '<>'\n",
    "\n",
    "\n",
    "---\n",
    "\n",
    "'To': contains '<>'\n",
    "\n",
    "---\n",
    "\n",
    "'Message-ID': contains '$'\n",
    "\n",
    "---\n",
    "\n",
    "'Return-Path': contains 'bounce'\n",
    "\n",
    "---\n",
    "\n",
    "'Reply-To': contains: '?'\n",
    "\n",
    "---\n",
    "\n",
    "'Received-SPF': contains 'bad', 'softfail', 'fail'\n",
    "\n",
    "---\n",
    "\n",
    "'Content-Type': contains 'text/html'\n",
    "\n",
    "---\n",
    "\n",
    "Precedence: contains 'list'\n",
    "\n",
    "---\n",
    "\n",
    "Received: Contains 'forged'\n"
   ]
  },
  {
   "cell_type": "markdown",
   "metadata": {
    "id": "6D4wxApdjW0k"
   },
   "source": [
    "**Content-Transfer-Encoding:**"
   ]
  },
  {
   "cell_type": "markdown",
   "metadata": {
    "id": "oz3cPiYKmi0P"
   },
   "source": [
    "Returns 0 if contains 7bit or 8bit, otherwise 1. (case insensitive)"
   ]
  },
  {
   "cell_type": "code",
   "execution_count": 21,
   "metadata": {
    "colab": {
     "base_uri": "https://localhost:8080/"
    },
    "id": "v0ziCh85kRM3",
    "outputId": "89059a84-c216-489a-d438-d2f330df8632"
   },
   "outputs": [
    {
     "data": {
      "text/plain": [
       "label\n",
       "2    228\n",
       "Name: count, dtype: int64"
      ]
     },
     "execution_count": 21,
     "metadata": {},
     "output_type": "execute_result"
    }
   ],
   "source": [
    "df[~(df['content-transfer-encoding'].str.contains('(?i)8bit')) & ~(df['content-transfer-encoding'].str.contains('(?i)7bit'))]['label'].value_counts()"
   ]
  },
  {
   "cell_type": "code",
   "execution_count": 22,
   "metadata": {
    "id": "1TEL9utYkApS"
   },
   "outputs": [],
   "source": [
    "import re\n",
    "\n",
    "def content_encoding_val(row):\n",
    "  val = row['content-transfer-encoding']\n",
    "  re1 = re.compile(r'(?i)8bit')\n",
    "  re2 = re.compile(r'(?i)7bit')\n",
    "  if (not re1.search(val)) and (not re2.search(val)):\n",
    "    return 1\n",
    "  else:\n",
    "    return 0"
   ]
  },
  {
   "cell_type": "code",
   "execution_count": 23,
   "metadata": {
    "id": "-_hJaYEKlzh-"
   },
   "outputs": [],
   "source": [
    "df['content-encoding-val'] = df.apply(content_encoding_val, axis=1)"
   ]
  },
  {
   "cell_type": "code",
   "execution_count": 24,
   "metadata": {
    "id": "ibBviQeTmqEx"
   },
   "outputs": [],
   "source": [
    "final_features_list.append('content-encoding-val')"
   ]
  },
  {
   "cell_type": "markdown",
   "metadata": {
    "id": "ditnftr5nZUV"
   },
   "source": [
    "**Received check:**"
   ]
  },
  {
   "cell_type": "code",
   "execution_count": 25,
   "metadata": {
    "id": "2VcMD1QBlogj"
   },
   "outputs": [],
   "source": [
    "def check_received_forged(row):\n",
    "  num_iters = row['hops']\n",
    "  col_name_base = 'received'\n",
    "\n",
    "  for i in range(1, num_iters+1):\n",
    "    curr_val = row[col_name_base + str(i)]\n",
    "    if 'forged' in curr_val:\n",
    "      return 1\n",
    "    else:\n",
    "      continue\n",
    "  return 0"
   ]
  },
  {
   "cell_type": "code",
   "execution_count": 26,
   "metadata": {
    "id": "Dvr6iPkOlz41"
   },
   "outputs": [],
   "source": [
    "df['received_str_forged'] = df.apply(check_received_forged, axis=1)\n",
    "final_features_list.append('received_str_forged')"
   ]
  },
  {
   "cell_type": "code",
   "execution_count": 27,
   "metadata": {
    "colab": {
     "base_uri": "https://localhost:8080/"
    },
    "id": "05-fkNm9m_0V",
    "outputId": "861ab60c-b8f5-4d8b-e42e-c5ef1769b0a5"
   },
   "outputs": [
    {
     "data": {
      "text/plain": [
       "Series([], Name: count, dtype: int64)"
      ]
     },
     "execution_count": 27,
     "metadata": {},
     "output_type": "execute_result"
    }
   ],
   "source": [
    "df[df['received_str_forged'] == 1]['label'].value_counts()"
   ]
  },
  {
   "cell_type": "markdown",
   "metadata": {
    "id": "XOUZx24QnVNX"
   },
   "source": [
    "**Other string checks:**"
   ]
  },
  {
   "cell_type": "code",
   "execution_count": 28,
   "metadata": {
    "id": "AXoFOABhvGxm"
   },
   "outputs": [],
   "source": [
    "def str_based_features_add(old_col_name, new_col_names, items_to_check):\n",
    "\n",
    "  for col_name, item_to_check in zip(new_col_names, items_to_check):\n",
    "    if item_to_check == '':\n",
    "      df.loc[(df[old_col_name].str.fullmatch(item_to_check)), col_name] = 1\n",
    "      df.loc[~(df[old_col_name].str.fullmatch(item_to_check)), col_name] = 0\n",
    "    else:\n",
    "      df.loc[(df[old_col_name].str.contains('(?i)' + item_to_check)), col_name] = 1\n",
    "      df.loc[~(df[old_col_name].str.contains('(?i)' + item_to_check)), col_name] = 0\n",
    "\n",
    "  final_features_list.extend(new_col_names)"
   ]
  },
  {
   "cell_type": "code",
   "execution_count": 29,
   "metadata": {
    "id": "ZjXragSrQMu8"
   },
   "outputs": [],
   "source": [
    "# Content-Transfer-Encoding\n",
    "new_col_names = ['str_content-encoding_empty']\n",
    "items_to_check = ['']\n",
    "feature = 'content-transfer-encoding'\n",
    "str_based_features_add(feature, new_col_names, items_to_check)\n",
    "\n",
    "# From\n",
    "new_col_names = ['str_from_question', 'str_from_exclam', 'str_from_chevron']\n",
    "items_to_check = ['\\?', '!', '<.+>']\n",
    "feature = 'from'\n",
    "str_based_features_add(feature, new_col_names, items_to_check)\n",
    "\n",
    "# To\n",
    "new_col_names = ['str_to_chevron', 'str_to_undisclosed', 'str_to_empty']\n",
    "items_to_check = ['<.+>', 'Undisclosed Recipients', '']\n",
    "feature = 'to'\n",
    "str_based_features_add(feature, new_col_names, items_to_check)\n",
    "\n",
    "# Message-ID\n",
    "new_col_names = ['str_message-ID_dollar']\n",
    "items_to_check = ['\\$']\n",
    "feature = 'message-id'\n",
    "str_based_features_add(feature, new_col_names, items_to_check)\n",
    "\n",
    "# Return-Path\n",
    "new_col_names = ['str_return-path_bounce', 'str_return-path_empty']\n",
    "items_to_check = ['bounce', '']\n",
    "feature = 'return-path'\n",
    "str_based_features_add(feature, new_col_names, items_to_check)\n",
    "\n",
    "# Reply-To\n",
    "new_col_names = ['str_reply-to_question']\n",
    "items_to_check = ['\\?']\n",
    "feature = 'reply-to'\n",
    "str_based_features_add(feature, new_col_names, items_to_check)\n",
    "\n",
    "# Received-SPF\n",
    "new_col_names = ['str_received-SPF_bad', 'str_received-SPF_softfail', \n",
    "                 'str_received-SPF_fail']\n",
    "items_to_check = ['bad', 'softfail', 'fail']\n",
    "feature = 'received-spf'\n",
    "str_based_features_add(feature, new_col_names, items_to_check)\n",
    "\n",
    "# Content-Type\n",
    "new_col_names = ['str_content-type_texthtml']\n",
    "items_to_check = ['text/html']\n",
    "feature = 'content-type'\n",
    "str_based_features_add(feature, new_col_names, items_to_check)"
   ]
  },
  {
   "cell_type": "markdown",
   "metadata": {
    "id": "xhkNe2ql-cFP"
   },
   "source": [
    "# **Feature: \"Count-Based features\"**"
   ]
  },
  {
   "cell_type": "markdown",
   "metadata": {
    "id": "qHpLQpY81B-m"
   },
   "source": [
    "**The following features are extracted (and also discretizied):**"
   ]
  },
  {
   "cell_type": "markdown",
   "metadata": {
    "id": "HqvNNJlc0eZq"
   },
   "source": [
    "Hops: The number of received fields in an email. (This was extracted during the creation of the data set.)\n",
    "\n",
    "---\n",
    "\n",
    "Length: The total number of characters in the 'From' field.\n",
    "\n",
    "---\n",
    "\n",
    "Number of recipients: The number of email addresses specified in the 'To' field.\n",
    "\n",
    "Number of recipients: The number of email addresses specified in the 'Cc' field.\n",
    "\n",
    "Number of Senders: The number of email addresses specified in the 'From' field.\n",
    "\n",
    "---\n",
    "\n",
    "Number of replies: The number of message-ID's contained within the 'References' field. (Each message-ID is enclosed in a pair of '<>'). [PROPOSED]\n",
    "\n",
    "\n",
    "\n"
   ]
  },
  {
   "cell_type": "markdown",
   "metadata": {
    "id": "34-mVd2ZiPrs"
   },
   "source": [
    "**Hops:**"
   ]
  },
  {
   "cell_type": "code",
   "execution_count": 30,
   "metadata": {
    "colab": {
     "base_uri": "https://localhost:8080/"
    },
    "id": "Lj8WQXCHiiJf",
    "outputId": "0e4c0bf5-8183-4192-d91b-29223520c62c"
   },
   "outputs": [
    {
     "data": {
      "text/plain": [
       "count    245.000000\n",
       "mean       1.979592\n",
       "std        1.185462\n",
       "min        1.000000\n",
       "25%        1.000000\n",
       "50%        2.000000\n",
       "75%        3.000000\n",
       "max        8.000000\n",
       "Name: hops, dtype: float64"
      ]
     },
     "execution_count": 30,
     "metadata": {},
     "output_type": "execute_result"
    }
   ],
   "source": [
    "df['hops'].describe()"
   ]
  },
  {
   "cell_type": "code",
   "execution_count": 31,
   "metadata": {
    "colab": {
     "base_uri": "https://localhost:8080/"
    },
    "id": "qwYvDWXNgU_H",
    "outputId": "427ecac0-3e95-4b88-d0c1-0b16fb5733e2"
   },
   "outputs": [
    {
     "data": {
      "text/plain": [
       "label\n",
       "2    7\n",
       "Name: count, dtype: int64"
      ]
     },
     "execution_count": 31,
     "metadata": {},
     "output_type": "execute_result"
    }
   ],
   "source": [
    "df[df['hops'] > 5]['label'].value_counts()"
   ]
  },
  {
   "cell_type": "code",
   "execution_count": 32,
   "metadata": {
    "id": "jidAm3tpiRN2"
   },
   "outputs": [],
   "source": [
    "df['hops'] = df['hops'].apply(lambda x: 0 if x <= 2 else 1 if x <= 5 else 2)"
   ]
  },
  {
   "cell_type": "code",
   "execution_count": 33,
   "metadata": {
    "colab": {
     "base_uri": "https://localhost:8080/"
    },
    "id": "iVl9PDg4i1lf",
    "outputId": "4700d0b5-221e-4915-99ad-e87fccbbe66d"
   },
   "outputs": [
    {
     "data": {
      "text/plain": [
       "hops\n",
       "0    180\n",
       "1     58\n",
       "2      7\n",
       "Name: count, dtype: int64"
      ]
     },
     "execution_count": 33,
     "metadata": {},
     "output_type": "execute_result"
    }
   ],
   "source": [
    "df['hops'].value_counts()"
   ]
  },
  {
   "cell_type": "markdown",
   "metadata": {
    "id": "W0sZPjea3SIX"
   },
   "source": [
    "**Length:**"
   ]
  },
  {
   "cell_type": "code",
   "execution_count": 34,
   "metadata": {
    "id": "Z1Xb3BsZ-gcd"
   },
   "outputs": [],
   "source": [
    "def count_chars(field_names, new_col_names):\n",
    "  for field_name, new_col_name in zip(field_names, new_col_names):\n",
    "    df[new_col_name] = df[field_name].str.len()\n",
    "\n",
    "  final_features_list.extend(new_col_names)"
   ]
  },
  {
   "cell_type": "code",
   "execution_count": 35,
   "metadata": {
    "id": "yCdufaF84miB"
   },
   "outputs": [],
   "source": [
    "fields_to_find_lengths = ['from']\n",
    "new_col_names_lengths = []\n",
    "\n",
    "for val in fields_to_find_lengths:\n",
    "  new_col_names_lengths.append('length_' + val)\n",
    "\n",
    "count_chars(fields_to_find_lengths, new_col_names_lengths)"
   ]
  },
  {
   "cell_type": "code",
   "execution_count": 36,
   "metadata": {
    "colab": {
     "base_uri": "https://localhost:8080/"
    },
    "id": "J3G1RvY6jjf-",
    "outputId": "3b5e67f7-72a0-4fca-f9f2-81ae1b12c538"
   },
   "outputs": [
    {
     "data": {
      "text/plain": [
       "count    245.000000\n",
       "mean      47.808163\n",
       "std       21.123173\n",
       "min       10.000000\n",
       "25%       35.000000\n",
       "50%       44.000000\n",
       "75%       55.000000\n",
       "max      195.000000\n",
       "Name: length_from, dtype: float64"
      ]
     },
     "execution_count": 36,
     "metadata": {},
     "output_type": "execute_result"
    }
   ],
   "source": [
    "df['length_from'].describe()"
   ]
  },
  {
   "cell_type": "code",
   "execution_count": 37,
   "metadata": {
    "colab": {
     "base_uri": "https://localhost:8080/"
    },
    "id": "WOOQnhd_hJX2",
    "outputId": "558c5c05-0c7d-4cb5-a74b-ca9001920587"
   },
   "outputs": [
    {
     "data": {
      "text/plain": [
       "label\n",
       "2    148\n",
       "Name: count, dtype: int64"
      ]
     },
     "execution_count": 37,
     "metadata": {},
     "output_type": "execute_result"
    }
   ],
   "source": [
    "df[df['length_from'] > 40]['label'].value_counts()"
   ]
  },
  {
   "cell_type": "code",
   "execution_count": 38,
   "metadata": {
    "id": "bcrT0L01j8ZF"
   },
   "outputs": [],
   "source": [
    "df['length_from'] = df['length_from'].apply(lambda x: 0 if x > 40 else 1)"
   ]
  },
  {
   "cell_type": "markdown",
   "metadata": {
    "id": "O6lKQKvM66jF"
   },
   "source": [
    "**Number of recipients:**"
   ]
  },
  {
   "cell_type": "code",
   "execution_count": 39,
   "metadata": {
    "id": "ogFgrSoi8GNs"
   },
   "outputs": [],
   "source": [
    "import re\n",
    "\n",
    "#https://stackoverflow.com/questions/42407785/regex-extract-email-from-strings\n",
    "df['num_recipients_to'] = df.apply(lambda x: len(re.findall(\n",
    "    r'([a-zA-Z0-9+._-]+@[a-zA-Z0-9._-]+\\.[a-zA-Z0-9_-]+)', x['to'])), axis=1)\n",
    "\n",
    "df['num_recipients_cc'] = df.apply(lambda x: len(re.findall(\n",
    "    r'([a-zA-Z0-9+._-]+@[a-zA-Z0-9._-]+\\.[a-zA-Z0-9_-]+)', x['cc'])), axis=1)\n",
    "\n",
    "df['num_recipients_from'] = df.apply(lambda x: len(re.findall(\n",
    "    r'([a-zA-Z0-9+._-]+@[a-zA-Z0-9._-]+\\.[a-zA-Z0-9_-]+)', x['from'])), axis=1)\n",
    "\n",
    "final_features_list.append('num_recipients_to')\n",
    "final_features_list.append('num_recipients_cc')\n",
    "final_features_list.append('num_recipients_from')"
   ]
  },
  {
   "cell_type": "code",
   "execution_count": 40,
   "metadata": {
    "colab": {
     "base_uri": "https://localhost:8080/"
    },
    "id": "ohJYDpkJkVd6",
    "outputId": "24455c50-ec45-4ce5-bfc3-84e2d7878ff6"
   },
   "outputs": [
    {
     "data": {
      "text/plain": [
       "count    245.000000\n",
       "mean       0.991837\n",
       "std        0.202279\n",
       "min        0.000000\n",
       "25%        1.000000\n",
       "50%        1.000000\n",
       "75%        1.000000\n",
       "max        2.000000\n",
       "Name: num_recipients_to, dtype: float64"
      ]
     },
     "execution_count": 40,
     "metadata": {},
     "output_type": "execute_result"
    }
   ],
   "source": [
    "df['num_recipients_to'].describe()"
   ]
  },
  {
   "cell_type": "code",
   "execution_count": 41,
   "metadata": {
    "colab": {
     "base_uri": "https://localhost:8080/"
    },
    "id": "AKAK1WXphz6F",
    "outputId": "56545e86-be7c-4c10-fd8d-d82fa7bf9133"
   },
   "outputs": [
    {
     "data": {
      "text/plain": [
       "label\n",
       "2    6\n",
       "Name: count, dtype: int64"
      ]
     },
     "execution_count": 41,
     "metadata": {},
     "output_type": "execute_result"
    }
   ],
   "source": [
    "df[df['num_recipients_to'] == 0]['label'].value_counts()"
   ]
  },
  {
   "cell_type": "code",
   "execution_count": 42,
   "metadata": {
    "id": "zV_tZgQNkhtr"
   },
   "outputs": [],
   "source": [
    "df['num_recipients_to'] = df['num_recipients_to'].apply(lambda x: 0 if x == 0 else 1 if x == 1 else 2)"
   ]
  },
  {
   "cell_type": "code",
   "execution_count": 43,
   "metadata": {
    "colab": {
     "base_uri": "https://localhost:8080/"
    },
    "id": "wO3FkqJ5krTb",
    "outputId": "fb0c9bb2-d997-4589-86c7-5824788855b1"
   },
   "outputs": [
    {
     "data": {
      "text/plain": [
       "num_recipients_to\n",
       "1    235\n",
       "0      6\n",
       "2      4\n",
       "Name: count, dtype: int64"
      ]
     },
     "execution_count": 43,
     "metadata": {},
     "output_type": "execute_result"
    }
   ],
   "source": [
    "df['num_recipients_to'].value_counts()"
   ]
  },
  {
   "cell_type": "code",
   "execution_count": 44,
   "metadata": {
    "id": "qPz8S_VfkyuW"
   },
   "outputs": [],
   "source": [
    "df['num_recipients_cc'] = df['num_recipients_cc'].apply(lambda x: 0 if x == 0 else 1 if x == 1 else 2)"
   ]
  },
  {
   "cell_type": "code",
   "execution_count": 45,
   "metadata": {
    "colab": {
     "base_uri": "https://localhost:8080/"
    },
    "id": "Vdq_LAsSieP3",
    "outputId": "dbd106b6-f0d1-4c9b-ca12-57e068573229"
   },
   "outputs": [
    {
     "data": {
      "text/plain": [
       "label\n",
       "2    11\n",
       "Name: count, dtype: int64"
      ]
     },
     "execution_count": 45,
     "metadata": {},
     "output_type": "execute_result"
    }
   ],
   "source": [
    "df[df['num_recipients_from'] == 0]['label'].value_counts()"
   ]
  },
  {
   "cell_type": "code",
   "execution_count": 46,
   "metadata": {
    "colab": {
     "base_uri": "https://localhost:8080/"
    },
    "id": "VX8f_B9OgJ1_",
    "outputId": "5a56d591-4457-4c1e-cd5b-7806029ac922"
   },
   "outputs": [
    {
     "data": {
      "text/plain": [
       "count    245.000000\n",
       "mean       0.967347\n",
       "std        0.237290\n",
       "min        0.000000\n",
       "25%        1.000000\n",
       "50%        1.000000\n",
       "75%        1.000000\n",
       "max        2.000000\n",
       "Name: num_recipients_from, dtype: float64"
      ]
     },
     "execution_count": 46,
     "metadata": {},
     "output_type": "execute_result"
    }
   ],
   "source": [
    "df['num_recipients_from'].describe()"
   ]
  },
  {
   "cell_type": "code",
   "execution_count": 47,
   "metadata": {
    "colab": {
     "base_uri": "https://localhost:8080/"
    },
    "id": "msGcECimgNs6",
    "outputId": "2a8d3355-45f9-4a89-adfe-1e6f18c3bc64"
   },
   "outputs": [
    {
     "data": {
      "text/plain": [
       "num_recipients_from\n",
       "1    231\n",
       "0     11\n",
       "2      3\n",
       "Name: count, dtype: int64"
      ]
     },
     "execution_count": 47,
     "metadata": {},
     "output_type": "execute_result"
    }
   ],
   "source": [
    "df['num_recipients_from'].value_counts()"
   ]
  },
  {
   "cell_type": "code",
   "execution_count": 48,
   "metadata": {
    "id": "5c8OEPdjgWOl"
   },
   "outputs": [],
   "source": [
    "df['num_recipients_from'] = df['num_recipients_from'].apply(lambda x: 0 if x == 0 else 1 if x == 1 else 2)"
   ]
  },
  {
   "cell_type": "markdown",
   "metadata": {
    "id": "IyuakTcCPKOr"
   },
   "source": [
    "**Number of replies:**"
   ]
  },
  {
   "cell_type": "code",
   "execution_count": 49,
   "metadata": {
    "id": "EhoKWPYgS4rM"
   },
   "outputs": [],
   "source": [
    "import re\n",
    "\n",
    "def extract_num_replies(row):\n",
    "  references_val = row['references']\n",
    "  all = re.findall(r'<([a-zA-Z0-9+._-]+@[a-zA-Z0-9._-]+\\.[a-zA-Z0-9_-]+)>', \n",
    "                  references_val)\n",
    "  return len(all)"
   ]
  },
  {
   "cell_type": "code",
   "execution_count": 50,
   "metadata": {
    "id": "c4wnkcgpPLCR"
   },
   "outputs": [],
   "source": [
    "df['number_replies'] = df.apply(extract_num_replies, axis=1)"
   ]
  },
  {
   "cell_type": "code",
   "execution_count": 51,
   "metadata": {
    "colab": {
     "base_uri": "https://localhost:8080/"
    },
    "id": "1p28jg7YgsZJ",
    "outputId": "78485028-e2e1-4238-d1ca-b79a0e9bd1a7"
   },
   "outputs": [
    {
     "data": {
      "text/plain": [
       "count    245.0\n",
       "mean       0.0\n",
       "std        0.0\n",
       "min        0.0\n",
       "25%        0.0\n",
       "50%        0.0\n",
       "75%        0.0\n",
       "max        0.0\n",
       "Name: number_replies, dtype: float64"
      ]
     },
     "execution_count": 51,
     "metadata": {},
     "output_type": "execute_result"
    }
   ],
   "source": [
    "df['number_replies'].describe()"
   ]
  },
  {
   "cell_type": "code",
   "execution_count": 52,
   "metadata": {
    "colab": {
     "base_uri": "https://localhost:8080/"
    },
    "id": "DGXljt3Ng_c5",
    "outputId": "d621f4f4-9156-40d8-e73a-a38c9c709e1b"
   },
   "outputs": [
    {
     "data": {
      "text/plain": [
       "number_replies\n",
       "0    245\n",
       "Name: count, dtype: int64"
      ]
     },
     "execution_count": 52,
     "metadata": {},
     "output_type": "execute_result"
    }
   ],
   "source": [
    "df['number_replies'].value_counts()"
   ]
  },
  {
   "cell_type": "code",
   "execution_count": 53,
   "metadata": {
    "colab": {
     "base_uri": "https://localhost:8080/"
    },
    "id": "TSb2D9zafnFO",
    "outputId": "f967fe08-2ff0-41ed-d770-82617d82da06"
   },
   "outputs": [
    {
     "data": {
      "text/plain": [
       "Series([], Name: count, dtype: int64)"
      ]
     },
     "execution_count": 53,
     "metadata": {},
     "output_type": "execute_result"
    }
   ],
   "source": [
    "df[df['number_replies'] >= 1]['label'].value_counts()"
   ]
  },
  {
   "cell_type": "code",
   "execution_count": 54,
   "metadata": {
    "id": "_O-JoO0Gg18D"
   },
   "outputs": [],
   "source": [
    "df['number_replies'] = df['number_replies'].apply(lambda x: 0 if x >= 1 else 1)"
   ]
  },
  {
   "cell_type": "code",
   "execution_count": 55,
   "metadata": {
    "id": "GaXFAhw2UbwM"
   },
   "outputs": [],
   "source": [
    "final_features_list.append('number_replies')"
   ]
  },
  {
   "cell_type": "markdown",
   "metadata": {
    "id": "fMwsPWxpi2cG"
   },
   "source": [
    "# **Feature: \"Extraction-based features\"**"
   ]
  },
  {
   "cell_type": "markdown",
   "metadata": {
    "id": "vzXdMCGnjFzY"
   },
   "source": [
    "The following were extracted as features:"
   ]
  },
  {
   "cell_type": "markdown",
   "metadata": {
    "id": "Vyj6o7vtnW2E"
   },
   "source": [
    "Time zone: The time zone listed in the date field.\n",
    "\n",
    "---\n",
    "\n",
    "X-Priority: The numeric value is used as a feature.\n",
    "\n",
    "---\n",
    "\n",
    "Lines: The numeric value is discretized into bins, and then used as a feature.\n",
    "\n",
    "---\n",
    "\n",
    "Content-Length: The numeric value is discretized into bins, and then used as a feature.\n",
    "\n",
    "---\n",
    "\n",
    "Lines: The numeric value is discretized into bins, and then used as a feature."
   ]
  },
  {
   "cell_type": "markdown",
   "metadata": {
    "id": "ZbS9abJjzywT"
   },
   "source": [
    "**Time Zone:**"
   ]
  },
  {
   "cell_type": "code",
   "execution_count": 56,
   "metadata": {
    "id": "yzNbPgPx_Uhr"
   },
   "outputs": [],
   "source": [
    "from dateutil.parser import parse\n",
    "from datetime import datetime, timedelta\n",
    "import email.utils"
   ]
  },
  {
   "cell_type": "code",
   "execution_count": 57,
   "metadata": {
    "id": "IPcBBrd9JBnJ"
   },
   "outputs": [],
   "source": [
    "def extract_time_zone(row):\n",
    "  time_zone = email.utils.parsedate_tz(row['date'])\n",
    "  if time_zone is None:\n",
    "    return 'NA'\n",
    "  else:\n",
    "    return int(time_zone[9] / (60*60)) % 24"
   ]
  },
  {
   "cell_type": "code",
   "execution_count": 58,
   "metadata": {
    "id": "bc2fu6hXC4EL"
   },
   "outputs": [],
   "source": [
    "df['time_zone'] = df.apply(extract_time_zone, axis=1)"
   ]
  },
  {
   "cell_type": "code",
   "execution_count": 59,
   "metadata": {
    "id": "JBJo5qz7yF8G"
   },
   "outputs": [],
   "source": [
    "df.loc[df['time_zone'].astype(str).str.contains('NA'), 'time_zone'] = df['time_zone'].value_counts().index[0]"
   ]
  },
  {
   "cell_type": "code",
   "execution_count": 60,
   "metadata": {
    "colab": {
     "base_uri": "https://localhost:8080/"
    },
    "id": "gnbvuj95w_wK",
    "outputId": "d110367e-1104-43f6-9a5f-de6062e5475d"
   },
   "outputs": [
    {
     "name": "stdout",
     "output_type": "stream",
     "text": [
      "0\n"
     ]
    }
   ],
   "source": [
    "# Test\n",
    "d1 = email.utils.parsedate_tz('Mon, 9 Apr 2007 14:31:03 02300')\n",
    "d2 = email.utils.parsedate_tz('Mon, 8 Apr 2007 14:31:03 -0100')\n",
    "\n",
    "print((email.utils.mktime_tz(d2)) - (email.utils.mktime_tz(d1)))"
   ]
  },
  {
   "cell_type": "code",
   "execution_count": 61,
   "metadata": {
    "colab": {
     "base_uri": "https://localhost:8080/"
    },
    "id": "bkj7Yls7J4ml",
    "outputId": "30c02a13-3130-422e-9cfb-dc50eb008714"
   },
   "outputs": [
    {
     "data": {
      "text/plain": [
       "time_zone\n",
       "0     127\n",
       "17     37\n",
       "16     21\n",
       "2      21\n",
       "1      16\n",
       "8       5\n",
       "20      4\n",
       "9       3\n",
       "19      3\n",
       "3       3\n",
       "7       3\n",
       "5       1\n",
       "21      1\n",
       "Name: count, dtype: int64"
      ]
     },
     "execution_count": 61,
     "metadata": {},
     "output_type": "execute_result"
    }
   ],
   "source": [
    "df['time_zone'].value_counts()"
   ]
  },
  {
   "cell_type": "code",
   "execution_count": 62,
   "metadata": {
    "id": "qLRyH3f2oY2A"
   },
   "outputs": [],
   "source": [
    "df.loc[df['time_zone'] != 20, 'time_zone'] = 0\n",
    "df.loc[df['time_zone'] == 20, 'time_zone'] = 1"
   ]
  },
  {
   "cell_type": "code",
   "execution_count": 63,
   "metadata": {
    "id": "VFDyNF9YzRwk"
   },
   "outputs": [],
   "source": [
    "final_features_list.append('time_zone')"
   ]
  },
  {
   "cell_type": "markdown",
   "metadata": {
    "id": "8kQW_jCd1Bah"
   },
   "source": [
    "**X-Priority:**"
   ]
  },
  {
   "cell_type": "code",
   "execution_count": 64,
   "metadata": {
    "id": "NQhDKObt1EtN"
   },
   "outputs": [],
   "source": [
    "df['x-priority'] = df['x-priority'].astype(str).str.extract('(\\\\d+)')\n",
    "df['x-priority'] = pd.to_numeric(df['x-priority'], errors='coerce')\n",
    "df['x-priority'] = df['x-priority'].fillna(0)"
   ]
  },
  {
   "cell_type": "code",
   "execution_count": 65,
   "metadata": {
    "colab": {
     "base_uri": "https://localhost:8080/"
    },
    "id": "BO2C7Vut1I2v",
    "outputId": "4686ec00-9d2d-4ab1-fa82-3e61ba3b3774"
   },
   "outputs": [
    {
     "data": {
      "text/plain": [
       "count    8.000000\n",
       "mean     2.375000\n",
       "std      0.744024\n",
       "min      1.000000\n",
       "25%      2.000000\n",
       "50%      2.500000\n",
       "75%      3.000000\n",
       "max      3.000000\n",
       "Name: x-priority, dtype: float64"
      ]
     },
     "execution_count": 65,
     "metadata": {},
     "output_type": "execute_result"
    }
   ],
   "source": [
    "df[df['x-priority'] > 0]['x-priority'].describe()"
   ]
  },
  {
   "cell_type": "code",
   "execution_count": 66,
   "metadata": {
    "colab": {
     "base_uri": "https://localhost:8080/"
    },
    "id": "meYLNyKi1PaB",
    "outputId": "e465bd55-433d-46fc-ebda-938227af0737"
   },
   "outputs": [
    {
     "data": {
      "text/plain": [
       "x-priority\n",
       "0.0    237\n",
       "3.0      4\n",
       "2.0      3\n",
       "1.0      1\n",
       "Name: count, dtype: int64"
      ]
     },
     "execution_count": 66,
     "metadata": {},
     "output_type": "execute_result"
    }
   ],
   "source": [
    "df['x-priority'].value_counts()"
   ]
  },
  {
   "cell_type": "code",
   "execution_count": 67,
   "metadata": {
    "id": "SkglBb1l1ZJO"
   },
   "outputs": [],
   "source": [
    "df['x-priority'] = df['x-priority'].apply(lambda x: 0 if x != 3 else 1)"
   ]
  },
  {
   "cell_type": "code",
   "execution_count": 68,
   "metadata": {
    "id": "VGbGzmWK1CJJ"
   },
   "outputs": [],
   "source": [
    "final_features_list.append('x-priority')"
   ]
  },
  {
   "cell_type": "markdown",
   "metadata": {
    "id": "imJ9KNIXrZnv"
   },
   "source": [
    "**Content-Length:**"
   ]
  },
  {
   "cell_type": "code",
   "execution_count": 69,
   "metadata": {
    "id": "diA7XZbGyps3"
   },
   "outputs": [],
   "source": [
    "df['content-length'] = df['content-length'].astype(str).str.extract('(\\\\d+)')\n",
    "df['content-length'] = pd.to_numeric(df['content-length'], errors='coerce')\n",
    "df['content-length'] = df['content-length'].fillna(0)"
   ]
  },
  {
   "cell_type": "code",
   "execution_count": 70,
   "metadata": {
    "colab": {
     "base_uri": "https://localhost:8080/"
    },
    "id": "5_Af7o65xv4n",
    "outputId": "c2e39911-e23e-4c95-c0cb-7e38b4b820b7"
   },
   "outputs": [
    {
     "data": {
      "text/plain": [
       "count    0.0\n",
       "mean     NaN\n",
       "std      NaN\n",
       "min      NaN\n",
       "25%      NaN\n",
       "50%      NaN\n",
       "75%      NaN\n",
       "max      NaN\n",
       "Name: content-length, dtype: float64"
      ]
     },
     "execution_count": 70,
     "metadata": {},
     "output_type": "execute_result"
    }
   ],
   "source": [
    "df[df['content-length'] > 0]['content-length'].describe()"
   ]
  },
  {
   "cell_type": "code",
   "execution_count": 71,
   "metadata": {
    "id": "t7Fm-91neAEN"
   },
   "outputs": [],
   "source": [
    "df['content-length'] = df['content-length'].apply(lambda x: 0 if x < 1 else 1 if x < 1274 else 2 if x < 2348 else 3 if x < 5798 else 4)"
   ]
  },
  {
   "cell_type": "code",
   "execution_count": 72,
   "metadata": {
    "id": "WUMpH6lr33RJ"
   },
   "outputs": [],
   "source": [
    "final_features_list.append('content-length')"
   ]
  },
  {
   "cell_type": "markdown",
   "metadata": {
    "id": "67YCpjM18_EF"
   },
   "source": [
    "**Lines:**"
   ]
  },
  {
   "cell_type": "code",
   "execution_count": 73,
   "metadata": {},
   "outputs": [],
   "source": [
    "df['lines'] = np.nan"
   ]
  },
  {
   "cell_type": "code",
   "execution_count": 74,
   "metadata": {
    "id": "R4xLtSY-9BLI"
   },
   "outputs": [],
   "source": [
    "df['lines'] = df['lines'].astype(str).str.extract('(\\\\d+)')\n",
    "df['lines'] = pd.to_numeric(df['lines'], errors='coerce')"
   ]
  },
  {
   "cell_type": "code",
   "execution_count": 75,
   "metadata": {
    "colab": {
     "base_uri": "https://localhost:8080/"
    },
    "id": "iZB8kfp39Iet",
    "outputId": "e58d8a05-f9ce-4b94-b64b-6fbd4c8efd6c"
   },
   "outputs": [
    {
     "data": {
      "text/plain": [
       "count    0.0\n",
       "mean     NaN\n",
       "std      NaN\n",
       "min      NaN\n",
       "25%      NaN\n",
       "50%      NaN\n",
       "75%      NaN\n",
       "max      NaN\n",
       "Name: lines, dtype: float64"
      ]
     },
     "execution_count": 75,
     "metadata": {},
     "output_type": "execute_result"
    }
   ],
   "source": [
    "df['lines'].describe()"
   ]
  },
  {
   "cell_type": "code",
   "execution_count": 76,
   "metadata": {
    "id": "OzTylIrt93Ey"
   },
   "outputs": [],
   "source": [
    "df['lines'] = df['lines'].fillna(0)"
   ]
  },
  {
   "cell_type": "code",
   "execution_count": 77,
   "metadata": {
    "id": "Ja_BihWz9Jb_"
   },
   "outputs": [],
   "source": [
    "df['lines'] = df['lines'].apply(lambda x: 0 if x == 0 else 1 if x <= 30 else 2 if x <= 54 else 3 if x <= 119 else 4)"
   ]
  },
  {
   "cell_type": "code",
   "execution_count": 78,
   "metadata": {
    "colab": {
     "base_uri": "https://localhost:8080/"
    },
    "id": "kgkLCSa_-GAt",
    "outputId": "ad95e4e9-694f-4761-cc8c-4d89383a4ad1"
   },
   "outputs": [
    {
     "data": {
      "text/plain": [
       "lines\n",
       "0    245\n",
       "Name: count, dtype: int64"
      ]
     },
     "execution_count": 78,
     "metadata": {},
     "output_type": "execute_result"
    }
   ],
   "source": [
    "df['lines'].value_counts()"
   ]
  },
  {
   "cell_type": "code",
   "execution_count": 79,
   "metadata": {
    "id": "_oF1KdSj9Ldg"
   },
   "outputs": [],
   "source": [
    "final_features_list.append('lines')"
   ]
  },
  {
   "cell_type": "code",
   "execution_count": 80,
   "metadata": {},
   "outputs": [],
   "source": [
    "df['last_received'] = ''\n",
    "df['first_received'] = ''"
   ]
  },
  {
   "cell_type": "markdown",
   "metadata": {
    "id": "NgJlQuIx2tUC"
   },
   "source": [
    "**Day of the Week:**"
   ]
  },
  {
   "cell_type": "code",
   "execution_count": 81,
   "metadata": {
    "id": "YJoJ29-l3c1s"
   },
   "outputs": [],
   "source": [
    "df['last_received_date'] = df['last_received'].str.replace('\\n\\t', ';').str.split(r';').str[-1]\n",
    "df['first_received_date'] = df['first_received'].str.replace('\\n\\t', ';').str.split(r';').str[-1]"
   ]
  },
  {
   "cell_type": "code",
   "execution_count": 82,
   "metadata": {
    "id": "SE2ICOco2zBY"
   },
   "outputs": [],
   "source": [
    "def get_day_week(row):\n",
    "  date_val = row['date']\n",
    "  \n",
    "  d1 = email.utils.parsedate_tz(date_val)\n",
    "\n",
    "  if d1 is None:\n",
    "    return 'NA'\n",
    "\n",
    "  try:\n",
    "    val1 = email.utils.mktime_tz(d1)\n",
    "    day = datetime.fromtimestamp(val1).strftime(\"%A\")\n",
    "  except:\n",
    "    return 'NA'\n",
    "\n",
    "  return day"
   ]
  },
  {
   "cell_type": "code",
   "execution_count": 83,
   "metadata": {
    "id": "9jY5N4yM2-co"
   },
   "outputs": [],
   "source": [
    "df['day_of_week'] = df.apply(get_day_week, axis=1)"
   ]
  },
  {
   "cell_type": "code",
   "execution_count": 84,
   "metadata": {
    "colab": {
     "base_uri": "https://localhost:8080/"
    },
    "id": "TTO4a0sw7_1R",
    "outputId": "be330296-b4cf-4934-cd5d-18fada9d7202"
   },
   "outputs": [
    {
     "data": {
      "text/plain": [
       "day_of_week\n",
       "Wednesday    58\n",
       "Thursday     47\n",
       "Monday       40\n",
       "Tuesday      35\n",
       "Friday       30\n",
       "Saturday     20\n",
       "Sunday       15\n",
       "Name: count, dtype: int64"
      ]
     },
     "execution_count": 84,
     "metadata": {},
     "output_type": "execute_result"
    }
   ],
   "source": [
    "df['day_of_week'].value_counts()"
   ]
  },
  {
   "cell_type": "code",
   "execution_count": 85,
   "metadata": {
    "id": "m0pl-il297C8"
   },
   "outputs": [],
   "source": [
    "df['day_of_week'] = df['day_of_week'].apply(lambda x: ['NA', 'Monday', 'Tuesday', 'Wednesday', 'Thursday', 'Friday', 'Saturday', 'Sunday'].index(x))"
   ]
  },
  {
   "cell_type": "code",
   "execution_count": 86,
   "metadata": {
    "id": "YZU2yySS-UN7"
   },
   "outputs": [],
   "source": [
    "final_features_list.append('day_of_week')"
   ]
  },
  {
   "cell_type": "markdown",
   "metadata": {
    "id": "-_nEjwFOjUDI"
   },
   "source": [
    "# **Feature: \"Comparison-based features\"**\n"
   ]
  },
  {
   "cell_type": "markdown",
   "metadata": {
    "id": "G3PYX_dqoPzL"
   },
   "source": [
    "Fields that contain only a single email: return-path, from (check inside <>), sender, reply-to (check inside <>, otherwise same as null), errors-to."
   ]
  },
  {
   "cell_type": "markdown",
   "metadata": {
    "id": "UdJ0wG1GgPf2"
   },
   "source": [
    "Refers to features that are derived by comparing other features. The following features are extracted:"
   ]
  },
  {
   "cell_type": "markdown",
   "metadata": {
    "id": "cymUdwUsgtJu"
   },
   "source": [
    "**Span time**: Time difference between the first and last received fields. (Discretizied)\n",
    "\n",
    "---\n",
    "\n",
    "**Date and time conflict** (Consequtive received fields): Checks if consecutive received fields have a time difference of zero or greater. Output values = 0,1\n",
    "\n",
    "---\n",
    "\n",
    "**Date Validity** (Received): Checks the difference in time between the first Received fields date, and the date field, checks if zero or positive. Output values = 0,1\n",
    "\n",
    "---\n",
    "\n",
    "\n",
    "\n",
    "Domain matching between (if more than one domain per field, just check if any of them match): \n",
    "\n",
    "\n",
    "*   Message-ID + From\n",
    "*   Message-ID + Return-Path\n",
    "*   Message-ID + Sender\n",
    "*   Message-ID + first Received\n",
    "*   Return-Path + From\n",
    "*   Return-Path + Reply-To\n",
    "*   Reply-To + To\n",
    "*   Error-To + Message-ID\n",
    "*   Error-To + From\n",
    "*   Error-To + Sender\n",
    "*   Sender + From\n",
    "*   Reference + Reply-To\n",
    "*   Reference + InReply-To\n",
    "*   To + last Received\n",
    "*   InReply-To + To\n",
    "*   Reference + To\n",
    "*   Sender + first Received ('from' part of the first Received)\n",
    "*   Return-Path + first Recieved ('from' part of the first Received)\n",
    "*   Reply-To + last Received ('for' part of the last Received)\n",
    "*   InReply-To + last Received ('for' part of the last Received)\n",
    "\n",
    "---\n",
    "\n",
    "Email address matching between (if more than one email per field, just check if any of them match):\n",
    "\n",
    "*   To + Cc\n",
    "*   Cc\n",
    "\n",
    "---\n",
    "\n",
    "Date and time checks: \n",
    "\n",
    "*   Date and last Received field (check if difference is greater than or equal to zero, or not. Also can check for a large gap in time, greater than some value.)\n",
    "*   Span time: The time difference between the first and last received fields. This gets converted to 0 if the last received time is later than the first, 1 otherwise (also 1 if there is trouble reading the value).\n",
    "\n",
    "---\n",
    "\n",
    "Receieved Consequentive Checks:\n",
    "\n",
    "*   Consequentive Received fields: checks if consequentive received fields have a matching domain for the 'by' of the eariler received field and the 'from' part of the later one. Value is 1 if there is an issue, otherwise 0 if all match.\n"
   ]
  },
  {
   "cell_type": "markdown",
   "metadata": {
    "id": "ytz6_ICMAX5K"
   },
   "source": [
    "---\n",
    "\n",
    "**Date Validity: Comparing the 'Date' field and last received's \"date\" value:**\n",
    "\n",
    "---\n"
   ]
  },
  {
   "cell_type": "code",
   "execution_count": 87,
   "metadata": {
    "id": "Yr2q8idNEAsh"
   },
   "outputs": [],
   "source": [
    "import time\n",
    "\n",
    "def date_received_date_comp(row):\n",
    "  date_date = row['date']\n",
    "  date_received = row['last_received_date']\n",
    "\n",
    "  d1 = email.utils.parsedate_tz(date_date)\n",
    "  d2 = email.utils.parsedate_tz(date_received)\n",
    "\n",
    "  if d1 is None or d2 is None:\n",
    "    return -1\n",
    "\n",
    "  try:\n",
    "    val1 = email.utils.mktime_tz(d1)\n",
    "    val2 = email.utils.mktime_tz(d2)\n",
    "  except:\n",
    "    return -1\n",
    "\n",
    "  return (email.utils.mktime_tz(d2)) - (email.utils.mktime_tz(d1))"
   ]
  },
  {
   "cell_type": "code",
   "execution_count": 88,
   "metadata": {
    "id": "MfqDatueDo8Y"
   },
   "outputs": [],
   "source": [
    "df['date_comp_date_received'] = df.apply(date_received_date_comp, axis=1)"
   ]
  },
  {
   "cell_type": "code",
   "execution_count": 89,
   "metadata": {
    "colab": {
     "base_uri": "https://localhost:8080/"
    },
    "id": "YUq0-UgVEX76",
    "outputId": "19c40f83-0470-4900-855f-bb52ad0f464c"
   },
   "outputs": [
    {
     "data": {
      "text/plain": [
       "count    0.0\n",
       "mean     NaN\n",
       "std      NaN\n",
       "min      NaN\n",
       "25%      NaN\n",
       "50%      NaN\n",
       "75%      NaN\n",
       "max      NaN\n",
       "Name: date_comp_date_received, dtype: float64"
      ]
     },
     "execution_count": 89,
     "metadata": {},
     "output_type": "execute_result"
    }
   ],
   "source": [
    "df[df['date_comp_date_received'] > 0]['date_comp_date_received'].describe()"
   ]
  },
  {
   "cell_type": "code",
   "execution_count": 90,
   "metadata": {
    "id": "UREUxDepEigi"
   },
   "outputs": [],
   "source": [
    "df['date_comp_date_received'] = df['date_comp_date_received'].apply(lambda x: 0 if x < 0 else 1)"
   ]
  },
  {
   "cell_type": "code",
   "execution_count": 91,
   "metadata": {
    "colab": {
     "base_uri": "https://localhost:8080/"
    },
    "id": "qKTweJ85Exj5",
    "outputId": "2705e2f2-af4b-4d86-a142-2c7588241b80"
   },
   "outputs": [
    {
     "data": {
      "text/plain": [
       "date_comp_date_received\n",
       "0    245\n",
       "Name: count, dtype: int64"
      ]
     },
     "execution_count": 91,
     "metadata": {},
     "output_type": "execute_result"
    }
   ],
   "source": [
    "df['date_comp_date_received'].value_counts()"
   ]
  },
  {
   "cell_type": "code",
   "execution_count": 92,
   "metadata": {
    "id": "MNox7xZHE10B"
   },
   "outputs": [],
   "source": [
    "final_features_list.append('date_comp_date_received')"
   ]
  },
  {
   "cell_type": "markdown",
   "metadata": {
    "id": "sZ_g6tSCd_dP"
   },
   "source": [
    "---\n",
    "\n",
    "**Span time:**\n",
    "\n",
    "---"
   ]
  },
  {
   "cell_type": "code",
   "execution_count": 93,
   "metadata": {
    "colab": {
     "base_uri": "https://localhost:8080/"
    },
    "id": "ppajQ3aLyl9Y",
    "outputId": "44a838d2-01b3-4134-a3c6-81d65cc028a8"
   },
   "outputs": [
    {
     "name": "stdout",
     "output_type": "stream",
     "text": [
      "0.18138888888888888\n",
      "653\n"
     ]
    }
   ],
   "source": [
    "test1 = email.utils.parsedate_tz('Mon, 12 Jul 2021 19:28:19 +0000')\n",
    "test2 = email.utils.parsedate_tz('Mon, 12 Jul 2021 19:39:12 +0000')\n",
    "\n",
    "print(((email.utils.mktime_tz(test2)) - (email.utils.mktime_tz(test1))) / (60*60))\n",
    "print(((email.utils.mktime_tz(test2)) - (email.utils.mktime_tz(test1))) )"
   ]
  },
  {
   "cell_type": "code",
   "execution_count": 94,
   "metadata": {
    "id": "ImJHKy7zUUQ-"
   },
   "outputs": [],
   "source": [
    "def span_time_finder(row):\n",
    "  first = row['first_received_date']\n",
    "  last = row['last_received_date']\n",
    "\n",
    "  d1 = email.utils.parsedate_tz(first)\n",
    "  d2 = email.utils.parsedate_tz(last)\n",
    "\n",
    "  if d1 is None or d2 is None:\n",
    "    return -1\n",
    "\n",
    "  try:\n",
    "    val1 = email.utils.mktime_tz(d1)\n",
    "    val2 = email.utils.mktime_tz(d2)\n",
    "  except:\n",
    "    return -1\n",
    "\n",
    "  return (email.utils.mktime_tz(d2)) - (email.utils.mktime_tz(d1))"
   ]
  },
  {
   "cell_type": "code",
   "execution_count": 95,
   "metadata": {
    "id": "13qZk6DPLmDo"
   },
   "outputs": [],
   "source": [
    "df['span_time'] = df.apply(span_time_finder, axis=1)"
   ]
  },
  {
   "cell_type": "code",
   "execution_count": 96,
   "metadata": {
    "colab": {
     "base_uri": "https://localhost:8080/"
    },
    "id": "f82ckBrvr0Qw",
    "outputId": "08565bbe-e1b3-48cf-c77b-5478ae5be986"
   },
   "outputs": [
    {
     "data": {
      "text/plain": [
       "count    0.0\n",
       "mean     NaN\n",
       "std      NaN\n",
       "min      NaN\n",
       "25%      NaN\n",
       "50%      NaN\n",
       "75%      NaN\n",
       "max      NaN\n",
       "Name: span_time, dtype: float64"
      ]
     },
     "execution_count": 96,
     "metadata": {},
     "output_type": "execute_result"
    }
   ],
   "source": [
    "df[df['span_time'] > 0]['span_time'].describe()"
   ]
  },
  {
   "cell_type": "code",
   "execution_count": 97,
   "metadata": {
    "id": "s9T2ZMrJaGI7"
   },
   "outputs": [],
   "source": [
    "df['span_time'] = df['span_time'].apply(lambda x: 0 if x < 0 else 1 if x < 10 else 2 if x < 47 else 3 if x < 1100 else 4)"
   ]
  },
  {
   "cell_type": "code",
   "execution_count": 98,
   "metadata": {
    "colab": {
     "base_uri": "https://localhost:8080/"
    },
    "id": "3uyRK5LhlERA",
    "outputId": "2c853308-c6c2-4d19-8572-352fe88b0011"
   },
   "outputs": [
    {
     "data": {
      "text/plain": [
       "span_time\n",
       "0    245\n",
       "Name: count, dtype: int64"
      ]
     },
     "execution_count": 98,
     "metadata": {},
     "output_type": "execute_result"
    }
   ],
   "source": [
    "df['span_time'].value_counts()"
   ]
  },
  {
   "cell_type": "code",
   "execution_count": 99,
   "metadata": {
    "id": "vpw_-IyOVlQS"
   },
   "outputs": [],
   "source": [
    "final_features_list.append('span_time')"
   ]
  },
  {
   "cell_type": "markdown",
   "metadata": {
    "id": "S2ycfYn7vFxY"
   },
   "source": [
    "---\n",
    "\n",
    "**Consecutive Received Field 'by' and 'from' matching:**\n",
    "\n",
    "---"
   ]
  },
  {
   "cell_type": "code",
   "execution_count": 100,
   "metadata": {
    "id": "KnsYrKhTbUXG"
   },
   "outputs": [],
   "source": [
    "# Source: https://github.com/Te-k/pyreceived/blob/master/pyreceived/parser.py\n",
    "\n",
    "import re\n",
    "class ReceivedParser(object):\n",
    "    regexes = [\n",
    "        (\"from\\s+(mail\\s+pickup\\s+service|(?P<from_name>[\\[\\]\\w\\.\\-]*))\\s*(\\(\\s*\\[?(?P<from_ip>[a-f\\d\\.\\:]+)(\\%\\d+|)\\]?\\s*\\)|)\\s*by\\s*(?P<by_hostname>[\\w\\.\\-]+)\\s*(\\(\\s*\\[?(?P<by_ip>[\\d\\.\\:a-f]+)(\\%\\d+|)\\]?\\)|)\\s*(over\\s+TLS\\s+secured\\s+channel|)\\s*with\\s*(mapi|Microsoft\\s+SMTP\\s+Server|Microsoft\\s+SMTPSVC(\\((?P<server_version>[\\d\\.]+)\\)|))\\s*(\\((TLS|version=(?P<tls>[\\w\\.]+)|)\\,?\\s*(cipher=(?P<cipher>[\\w\\_]+)|)\\)|)\\s*(id\\s+(?P<id>[\\d\\.]+)|)\", \"MS SMTP Server\"), #exchange\n",
    "        (\"(from\\s+(?P<from_name>[\\[\\S\\]]+)\\s+\\(((?P<from_hostname>[\\S]*)|)\\s*\\[(IPv6\\:(?P<from_ipv6>[a-f\\d\\:]+)\\:|)((?P<from_ip>[\\d\\.\\:]+)|)\\]\\s*(\\(may\\s+be\\s+forged\\)|)\\)\\s*(\\(using\\s+(?P<tls>[\\w\\.]+)\\s+with\\s+cipher\\s+(?P<cipher>[\\w\\-]+)\\s+\\([\\w\\/\\s]+\\)\\)\\s+(\\(No\\s+client\\s+certificate\\s+requested\\)|)|)|)\\s*(\\(Authenticated\\s+sender\\:\\s+(?P<authenticated_sender>[\\w\\.\\-\\@]+)\\)|)\\s*by\\s+(?P<by_hostname>[\\S]+)\\s*(\\((?P<by_hostname2>[\\S]*)\\s*\\[((?P<by_ipv6>[a-f\\:\\d]+)|)(?P<by_ip>[\\d\\.]+)\\]\\)|)\\s*(\\([^\\)]*\\)|)\\s*(\\(Postfix\\)|)\\s*(with\\s+(?P<protocol>\\w*)|)\\s*id\\s+(?P<id>[\\w\\-]+)\\s*(for\\s+\\<(?P<envelope_for>[\\w\\.\\@]+)\\>|)\", \"postfix\"), #postfix\n",
    "        (\"(from\\s+(?P<from_name>[\\[\\S\\]]+)\\s+\\(((?P<from_hostname>[\\S]*)|)\\s*\\[(IPv6\\:(?P<from_ipv6>[a-f\\d\\:]+)|)\\]\\)\\s*(\\(using\\s+(?P<tls>[\\w\\.]+)\\s+with\\s+cipher\\s+(?P<cipher>[\\w\\-]+)\\s+\\([\\w\\/\\s]+\\)\\)\\s+(\\(No\\s+client\\s+certificate\\s+requested\\)|)|)|)\\s*(\\(Authenticated\\s+sender\\:\\s+(?P<authenticated_sender>[\\w\\.\\-\\@]+)\\)|)\\s*by\\s+(?P<by_hostname>[\\S]+)\\s*(\\((?P<by_hostname2>[\\S]*)\\s*\\[((?P<by_ipv6>[a-f\\:\\d]+)|)(?P<by_ip>[\\d\\.]+)\\]\\)|)\\s*(\\([^\\)]*\\)|)\\s*(\\(Postfix\\)|)\\s*(with\\s+(?P<protocol>\\w+)|)\\s*id\\s+(?P<id>[\\w\\-]+)\\s*(for\\s+\\<(?P<envelope_for>[\\w\\.\\@]+)\\>|)\", \"postfix\"),#POSTFIX\n",
    "        (\"\\s*from\\s+\\[?(?P<from_ip>[\\d\\.\\:]+)\\]?\\s*(\\((port=\\d+|)\\s*helo=(?P<from_name>[\\[\\]\\w\\.\\:\\-]+)\\)|)\\s+by\\s+(?P<by_hostname>[\\w\\-\\.]+)\\s+with\\s+(?P<protocol>\\w+)\\s*(\\((?P<cipher>[\\w\\.\\:\\_\\-]+)\\)|)\\s*(\\(Exim\\s+(?P<exim_version>[\\d\\.\\_]+)\\)|)\\s*\\(envelope-from\\s+<?(?P<envelope_from>[\\w\\@\\-\\.]*)>?\\s*\\)\\s*id\\s+(?P<id>[\\w\\-]+)\\s*\\s*(for\\s+<?(?P<envelope_for>[\\w\\.\\@]+)>?|)\", \"exim\"), #exim\n",
    "        (\"\\s*from\\s+(?P<from_hostname>[\\w\\.]+)\\s+\\(\\[?(?P<from_ip>[\\d\\.\\:a-f]+)\\]?(\\:\\d+|)\\s*(helo\\=\\[?(?P<from_name>[\\w\\.\\:\\-]+)|)\\]?\\)\\s+by\\s+(?P<by_hostname>[\\w\\-\\.]+)\\s+with\\s+(?P<protocol>\\w+)\\s+(\\((?P<cipher>[\\w\\.\\:\\_]+)\\)|)\\s*\\(Exim\\s+(?P<exim_version>[\\d\\.\\_]+)\\)\\s*\\(envelope-from\\s+\\<(?P<envelope_from>[\\w\\@\\-\\.]+)\\>\\s*\\)\\s*id\\s+(?P<id>[\\w\\-]+)\\s*(for\\s+(?P<envelope_for>[\\w\\.\\@]+)|)\", \"exim\"),# exim\n",
    "        (\"from\\s+(?P<from_name>[\\w\\.\\-]+)\\s+by\\s+(?P<by_hostname>[\\w\\.\\-]+)\\s+with\\s+(?P<protocol>\\w+)\\s+\\(Exim\\s+(?P<version>[\\d\\.]+)\\)\\s+\\(envelope-from\\s+<*(?P<envelope_from>[\\w\\.\\-\\@]+)>*\\)\\s+id\\s+(?P<id>[\\w\\.\\-]+)\\s+for\\s+<?(?P<envelope_for>[\\w\\.\\-\\@]+)>?\", \"exim\"), #exim\n",
    "        (\"from\\s+(?P<from_name>[\\[\\]\\w\\-\\.]+)\\s+\\(((?P<from_hostname>[\\w\\.\\-]+)|)\\s*\\[(?P<from_ip>[\\da-f\\.\\:]+)\\]\\)\\s+by\\s+(?P<by_hostname>[\\w\\.\\-]+)\\s+\\(Oracle\\s+Communications\\s+Messaging\\s+Server\\s+(?P<oracle_version>[\\w\\.\\-]+)(\\([\\d\\.]+\\)|)\\s+(32bit|64bit|)\\s*(\\([^\\)]+\\)|)\\)\\s*with\\s+(?P<protocol>\\w+)\\s+id\\s+\\<?(?P<id>[\\w\\@\\.\\-]+)\\>?\", \"Oracle Communication Messaging Server\"), #Oracle\n",
    "        (\"from\\s+(?P<from_hostname>[\\w\\-\\.]+)\\s+\\(\\[(?P<from_ip>[\\d\\.\\:a-f]+)\\]\\s+helo=(?P<from_name>[\\w\\.\\-]+)\\)\\s+by\\s+(?P<by_hostname>[\\w\\.\\-]+)\\s+with\\s+(?P<protocol>\\w+)\\s+\\(ASSP\\s+(?P<assp_version>[\\d\\.]+)\\s*\\)\", \"ASSP\"), #ASSP\n",
    "        (\"from\\s+(?P<from_hostname>[\\[\\]\\d\\w\\.\\-]+)\\s+\\(\\[\\[?(?P<from_ip>[\\d\\.]+)(\\:\\d+|)\\]\\s*(helo=(?P<from_name>[\\w\\.\\-]+)|)\\s*\\)\\s+by\\s+(?P<by_hostname>[\\w\\.\\-]+)\\s+\\(envelope-from\\s+\\<?(?P<envelope_from>[^>]+)\\>?\\)\\s+\\(ecelerity\\s+(?P<version>[\\d\\.]+)\\s+r\\([\\w\\-\\:\\.]+\\)\\)\\s+with\\s+(?P<protocol>\\w+)\\s*(\\(cipher=(?P<cipher>[\\w\\-\\_]+)\\)|)\\s*id\\s+(?P<id>[\\.\\-\\w\\/]+)\", \"ecelerity\"), #ecelerity\n",
    "        (\"from\\s+(?P<from_name>[\\[\\]\\w\\.\\-]+)\\s+\\(((?P<from_hostname>[\\w\\.\\-]+)|)\\s*(\\[(?P<from_ip>[\\d\\.\\:a-f]+)\\]|)\\)\\s*by\\s+(?P<by_hostname>[\\w\\.\\-]+)\\s+(\\([\\w\\.\\-\\=]+\\)|)\\s+with\\s+(?P<protocol>\\w+)\\s+\\(Nemesis\\)\\s+id\\s+(?P<id>[\\w\\.\\-]+)\\s*(for\\s+\\<?(?P<envelope_for>[\\w\\.\\@\\-]+)\\>?|)\", \"nemesis\"), #nemesis\n",
    "        (\"\\(qmail\\s+\\d+\\s+invoked\\s+(from\\s+network|)(by\\s+uid\\s+\\d+|)\\)\", \"qmail\"), #WTF qmail\n",
    "        (\"from\\s+\\[?(?P<from_ip>[\\d\\.a-f\\:]+)\\]?\\s+\\(account\\s+<?(?P<envelope_from>[\\w\\.\\@\\-]+)>?\\s+HELO\\s+(?P<from_name>[\\w\\.\\-]+)\\)\\s+by\\s+(?P<by_hostname>[\\w\\.\\-]*)\\s+\\(CommuniGate\\s+Pro\\s+SMTP\\s+(?P<version>[\\d\\.]+)\\)\\s+with\\s+(?P<protocol>\\w+)\\s+id\\s+(?P<id>[\\w\\-\\.]+)\\s+for\\s+<?(?P<envelope_for>[\\w\\.\\-\\@]+)>?\", \"CommuniGate\"), #CommuniGate\n",
    "        (\"from\\s+(?P<from_ip>[\\d\\.\\:a-f]+)\\s+\\(SquirrelMail\\s+authenticated\\s+user\\s+(?P<envelope_from>[\\w\\@\\.\\-]+)\\)\\s+by\\s+(?P<by_hostname>[\\w\\.\\-]+)\\s+with\\s+(?P<protocol>\\w+)\", \"SquirrelMail\"),\n",
    "        (\"by\\s+(?P<by_hostname>[\\w\\.\\-]+)\\s+\\((?P<protocol>\\w+)\\s+sendmail\\s*(emulation|)\\)\", \"sendmail\"), #sendmail\n",
    "        (\"from\\s+(?P<from_name>[\\[\\]\\w\\.\\-]+)\\s+\\(\\[(?P<from_hostname>[\\w\\.\\-]+)\\]\\s+\\[(?P<from_ip>[\\d\\.a-f\\:]+)\\]\\)\\s+by\\s+(?P<by_hostname>[\\w\\.\\-]+)\\s+\\(Sun\\s+Java\\(tm\\)\\s+System\\s+Messaging\\s+Server\\s+(?P<version>[\\w\\.\\-]+)\\s+\\d+bit\\s+\\(built\\s+\\w+\\s+\\d+\\s+\\d+\\)\\)\\s+with\\s+(?P<protocol>\\w+)\\s+id\\s+<?(?P<id>[\\w\\.\\-\\@]+)>?\", \"Sun Java System Messaging Server\"), # Sun Java System Messaging Server\n",
    "        (\"from\\s+(?P<from_name>[\\w\\.\\-\\[\\]]+)\\s+\\((?P<from_ip>[\\d\\.a-f\\:]+)\\)\\s+by\\s+(?P<by_hostname>[\\w\\.\\-]+)\\s+\\(Axigen\\)\\s+with\\s+(?P<protocol>\\w+)\\s+id\\s+(?P<id>[\\w\\.\\-]+)\", \"Axigen\"), #axigen\n",
    "        (\"from\\s+(?P<from_name>[\\w\\.\\-]+)\\s+\\((?P<from_hostname>[\\w\\.\\-]+)\\s+\\[(?P<from_ip>[\\d\\.a-f\\:]+)\\]\\)\\s+by\\s+(?P<by_hostname>[\\w\\.\\-]+)\\s+\\(Horde\\s+MIME\\s+library\\)\\s+with\\s+(?P<protocol>\\w+)\", \"Horde MIME library\"), #Horde\n",
    "        (\"from\\s+(?P<from_name>[\\w\\.\\-\\[\\]]+)\\s+by\\s+(?P<by_hostname>[\\w\\.\\-]+)\\s+\\(PGP\\s+Universal\\s+Service\\)\", \"PGP Universal Service\", \"local\"), # PGP Universal Service\n",
    "        (\"from\\s+(?P<from_name>[\\w\\.\\-]+)\\s+by\\s+(?P<by_hostname>[\\w\\.\\-]+)\\s+with\\s+(?P<protocol>\\w+)\\s+\\(Sophos\\s+PureMessage\\s+Version\\s+(?P<version>[\\d\\.\\-]+)\\)\\s+id\\s+(?P<id>[\\w\\.\\-]+)\\s+for\\s+(?P<envelope_for>[\\w\\.\\-\\@]+)\", \"Sophos PureMessage\"), #Sophos PureMessage\n",
    "        (\"by\\s+(?P<by_ip>[\\d\\.\\:a-f]+)\\s+with\\s+(?P<protocol>\\w+)\", \"unknown\"), # other\n",
    "        (\"from\\s+(?P<from_name>[\\w\\.\\-]+)\\s+\\#?\\s*(\\(|\\[|\\(\\[)\\s*(?P<from_ip>[\\d\\.\\:a-f]+)\\s*(\\]|\\)|\\]\\))\\s+by\\s+(?P<by_hostname>[\\w\\.\\-]+)(\\s+\\([\\w\\.\\s\\/]+\\)|)\\s*(with\\s+(?P<protocol>\\w+)|)\\s*(id\\s+(?P<id>[\\w]+)|)(\\(\\-\\)|)\\s*(for\\s+\\<(?P<envelope_for>[\\w\\@\\.]+)\\>?|)\", \"unknown\"), #unknown\n",
    "        (\"from\\s+(?P<from_hostname>[\\w\\.\\-]+)\\s*\\(HELO\\s+(?P<from_name>[\\w\\.\\-]+)\\)\\s*\\(\\[?(?P<from_ip>[\\d\\.\\:a-f]+)\\]?\\)\\s+by\\s+(?P<by_hostname>[\\w\\.\\-]+)(\\s+\\([\\d\\.]+\\)|)\\s*(with\\s+(?P<protocol>\\w+)|)\\s*(id\\s+(?P<id>[\\w]+)|)(\\(\\-\\)|)\", \"unknown\"), #other other\n",
    "        (\"from\\s+([\\(\\[](?P<from_ip>[\\d\\.\\:a-f]+)[\\)\\]]|)\\s+by\\s+(?P<by_hostname>[\\w\\.\\-]+)\\s+id\\s+(?P<id>\\w+)\\s*(with\\s+(?P<protocol>\\w+)|)\\s*\\s*(for\\s+\\<(?P<envelope_for>[\\w\\@\\.\\-]+)\\>|)\", \"unknown\"),#other\n",
    "        (\"from\\s+(?P<from_hostname>[\\w\\.]+)\\s+(\\(HELO\\s+(?P<from_name>[\\w\\.\\-]+)\\)|)\\s*(\\((?P<from_ip>[\\da-f\\.\\:]+)\\)|)\\s*by\\s+(?P<by_hostname>[\\w\\.\\-]+)\\s+with\\s+(?P<cipher>[\\w\\-]+)\\s+encrypted\\s+SMTP\", \"unknown\"), #unknown\n",
    "        (\"from\\s+(?P<from_hostname>[\\w\\.\\-]+)\\s+(\\(HELO\\s+(?P<from_name>[\\w\\.\\-]+)\\)|)\\s+\\((?P<envelope_from>[\\w\\.]+\\@[\\w\\.]+)\\@(?P<from_ip>[\\da-d\\.\\:]+)\\)\\s+by\\s+(?P<by_hostname>[\\w\\.\\-]+)\\s+with\\s+(?P<protocol>\\w+)\", \"unknown\"), #unknown\n",
    "        (\"from\\s+(?P<from_hostname>[\\w\\.\\-]+)\\s+\\(HELO\\s+(?P<from_name>[\\w\\.\\-\\?]+)\\)\\s+\\(\\w+\\@[\\w\\.]+\\@(?P<from_ip>[\\d\\.a-f\\-]+)_\\w+\\)\\s+by\\s+(?P<by_hostname>[\\w\\.\\-\\:]+)\\s+with\\s+(?P<protocol>\\w+)\", \"unknown\"), #unknown\n",
    "        (\"from\\s+(?P<from_name>[\\w\\.\\-\\[\\]]+)\\s+\\(\\[(?P<from_ip>[\\da-f\\.\\:]+)\\]\\)\\s+by\\s+(?P<by_hostname>[\\w\\.\\-]+)\\s+\\(\\[(?P<by_ip>[\\d\\.a-f\\:]+)\\]\\)\\s+with\\s+(?P<protocol>\\w+)\", \"unknown\"), #unknown\n",
    "        ]\n",
    "    @staticmethod\n",
    "    def parse(header):\n",
    "        parts = header.split(\";\")\n",
    "        if len(parts) != 2:\n",
    "            return None\n",
    "\n",
    "        data = {}\n",
    "\n",
    "        # parse the hard part\n",
    "        found = False\n",
    "        for regex in ReceivedParser.regexes:\n",
    "            match = re.match(regex[0], parts[0], re.IGNORECASE)\n",
    "            if match:\n",
    "                data['server'] = regex[1]\n",
    "                found = True\n",
    "                break\n",
    "\n",
    "        if not found:\n",
    "            return None\n",
    "        return {**data, **match.groupdict()}"
   ]
  },
  {
   "cell_type": "code",
   "execution_count": 101,
   "metadata": {
    "id": "7743RS3QbisO"
   },
   "outputs": [],
   "source": [
    "received_parser = ReceivedParser()"
   ]
  },
  {
   "cell_type": "code",
   "execution_count": 102,
   "metadata": {
    "id": "PpHXX0ygMj6b"
   },
   "outputs": [],
   "source": [
    "def check_if_valid(dict_to_check, str_val):\n",
    "  if dict_to_check is None:\n",
    "    return False\n",
    "  elif str_val not in dict_to_check:\n",
    "    return False\n",
    "  elif dict_to_check[str_val] is None:\n",
    "    return False\n",
    "  else:\n",
    "    return True"
   ]
  },
  {
   "cell_type": "code",
   "execution_count": 103,
   "metadata": {
    "id": "R3MPTIP4Td0H"
   },
   "outputs": [],
   "source": [
    "# One-Hot encoding, new columns: conseq_num_received_is_one, conseq_received_good, conseq_received_bad, conseq_received_unknown (All values are 0 or 1)\n",
    "\n",
    "def check_conseq_received_domain(row):\n",
    "  num_received = row['hops']\n",
    "  if num_received == 1:\n",
    "    return pd.Series([1,0,0,0])\n",
    "\n",
    "  col_name_base = 'received'\n",
    "  for i in range(1, num_received):\n",
    "    curr_col = col_name_base + str(i)\n",
    "    next_col = col_name_base + str(i+1)\n",
    "\n",
    "    curr_val = row[curr_col]\n",
    "    next_val = row[next_col]\n",
    "\n",
    "    from_vals_dict = received_parser.parse(curr_val)\n",
    "    by_val_dict = received_parser.parse(next_val)\n",
    "\n",
    "    by_valid = check_if_valid(by_val_dict, 'by_hostname')\n",
    "    from_hostname_valid = check_if_valid(from_vals_dict, 'from_hostname')\n",
    "    from_name_valid = check_if_valid(from_vals_dict, 'from_name')\n",
    "\n",
    "    if by_valid:\n",
    "      # Both are valid case\n",
    "      if from_hostname_valid and from_name_valid:\n",
    "        if from_vals_dict['from_name'] == by_val_dict['by_hostname'] or \\\n",
    "        from_vals_dict['from_hostname'] == by_val_dict['by_hostname']:\n",
    "          continue\n",
    "        else:\n",
    "          #print(\"K Val: \" + str(i) +\"  FROMHOSTNAME: \" + from_vals_dict['from_hostname'] + \"  FROMNAME: \" + from_vals_dict['from_name'] + \"   BY: \" + by_val_dict['by_hostname'])\n",
    "          return pd.Series([0,0,1,0])\n",
    "\n",
    "      # Neither are valid case\n",
    "      elif not from_hostname_valid and not from_name_valid:\n",
    "        # Check my way before saying its invalid\n",
    "        val = my_checks(curr_val, next_val)\n",
    "        if isinstance(val, str):\n",
    "          continue\n",
    "        else:\n",
    "          return val\n",
    "\n",
    "      # From hostname is valid case\n",
    "      elif from_hostname_valid:\n",
    "        if from_vals_dict['from_hostname'] == by_val_dict['by_hostname']:\n",
    "          continue\n",
    "        else:\n",
    "          #print(\"K Val: \" + str(i) +\"  FROMHOSTNAME: \" + from_vals_dict['from_hostname'] + \"   BY: \" + by_val_dict['by_hostname'])\n",
    "          return pd.Series([0,0,1,0])\n",
    "\n",
    "      # From name is valid case\n",
    "      elif from_name_valid:\n",
    "        if from_vals_dict['from_name'] == by_val_dict['by_hostname']:\n",
    "          continue\n",
    "        else:\n",
    "          #print(\"K Val: \" + str(i) + \"  FROMNAME: \" + from_vals_dict['from_name'] + \"   BY: \" + by_val_dict['by_hostname'])\n",
    "          return pd.Series([0,0,1,0])\n",
    "    else:\n",
    "      # Check my way before saying its invalid\n",
    "      val = my_checks(curr_val, next_val)\n",
    "      if isinstance(val, str):\n",
    "        continue\n",
    "      else:\n",
    "        return val\n",
    "\n",
    "  # All checks worked out, return a good result\n",
    "  return pd.Series([0,1,0,0])\n",
    "\n",
    "\n",
    "def my_checks(curr_val, next_val):\n",
    "  first_domain_from = re.search(r'((?<=\\bfrom\\s)[^\\s]+)', curr_val)\n",
    "  second_domain_from = re.search(r'((?<=\\().*?(?=\\[))', curr_val)\n",
    "  domain_by = re.search(r'((?<=\\bby\\s)[^\\s]+)', next_val)\n",
    "\n",
    "  if domain_by is not None:\n",
    "    # Both are valid case\n",
    "    if first_domain_from is not None and second_domain_from is not None:\n",
    "        if first_domain_from.group(0) == domain_by.group(0) or \\\n",
    "        second_domain_from.group(0) == domain_by.group(0):\n",
    "          return 'continue'\n",
    "        else:\n",
    "          return pd.Series([0,0,1,0])\n",
    "\n",
    "    # Neither are valid case\n",
    "    if first_domain_from is None and second_domain_from is None:\n",
    "      return pd.Series([0,0,0,1]) \n",
    "\n",
    "    # One is valid case\n",
    "    if first_domain_from is not None:\n",
    "      if first_domain_from.group(0) == domain_by.group(0):\n",
    "        return 'continue'\n",
    "      else:\n",
    "        return pd.Series([0,0,1,0])\n",
    "\n",
    "    # One is valid case\n",
    "    if second_domain_from is not None:\n",
    "      if second_domain_from.group(0) == domain_by.group(0):\n",
    "        return 'continue'\n",
    "      else:\n",
    "        return pd.Series([0,0,1,0])\n",
    "        \n",
    "  else:\n",
    "    return pd.Series([0,0,0,1])"
   ]
  },
  {
   "cell_type": "code",
   "execution_count": 104,
   "metadata": {
    "id": "94-mPAYliEyu"
   },
   "outputs": [],
   "source": [
    "df[['conseq_num_received_is_one', 'conseq_received_good', \n",
    "   'conseq_received_bad', 'conseq_received_unknown']] = df.apply(check_conseq_received_domain, axis=1)"
   ]
  },
  {
   "cell_type": "code",
   "execution_count": 105,
   "metadata": {
    "id": "hQyDkZfUmCLn"
   },
   "outputs": [],
   "source": [
    "final_features_list.extend(['conseq_num_received_is_one', 'conseq_received_good', \n",
    "   'conseq_received_bad', 'conseq_received_unknown'])"
   ]
  },
  {
   "cell_type": "markdown",
   "metadata": {
    "id": "ZNf557Xx-zeV"
   },
   "source": [
    "**Date and time conflict (Consequtive received fields):**"
   ]
  },
  {
   "cell_type": "code",
   "execution_count": 106,
   "metadata": {
    "id": "DEBSZV0y-3l1"
   },
   "outputs": [],
   "source": [
    "def conseq_received_date(row):\n",
    "  num_received = row['hops']\n",
    "  if num_received == 1:\n",
    "    return 0\n",
    "\n",
    "  col_name_base = 'received'\n",
    "  for i in range(1, num_received):\n",
    "    curr_col = col_name_base + str(i)\n",
    "    next_col = col_name_base + str(i+1)\n",
    "\n",
    "    curr_val = row[curr_col]\n",
    "    next_val = row[next_col]\n",
    "\n",
    "    curr_date = curr_val.replace('\\n\\t', ';').split(r';')[-1]\n",
    "    next_date = next_val.replace('\\n\\t', ';').split(r';')[-1]\n",
    "\n",
    "    d1 = email.utils.parsedate_tz(curr_date)\n",
    "    d2 = email.utils.parsedate_tz(next_date)\n",
    "\n",
    "    if d1 is None or d2 is None:\n",
    "      return 1\n",
    "\n",
    "    try:\n",
    "      val1 = email.utils.mktime_tz(d1)\n",
    "      val2 = email.utils.mktime_tz(d2)\n",
    "    except:\n",
    "      return 1\n",
    "\n",
    "    if (val2 - val1) < 0:\n",
    "      return 1\n",
    "  return 0"
   ]
  },
  {
   "cell_type": "code",
   "execution_count": 107,
   "metadata": {
    "id": "0-UXLjf0Aco_"
   },
   "outputs": [],
   "source": [
    "df['conseq_received_date'] = df.apply(conseq_received_date, axis=1)"
   ]
  },
  {
   "cell_type": "code",
   "execution_count": 108,
   "metadata": {
    "colab": {
     "base_uri": "https://localhost:8080/"
    },
    "id": "y425oysXA3yb",
    "outputId": "2a5ca53a-5ccd-402b-b9fb-a0724cd274ea"
   },
   "outputs": [
    {
     "data": {
      "text/plain": [
       "conseq_received_date\n",
       "0    238\n",
       "1      7\n",
       "Name: count, dtype: int64"
      ]
     },
     "execution_count": 108,
     "metadata": {},
     "output_type": "execute_result"
    }
   ],
   "source": [
    "df['conseq_received_date'].value_counts()"
   ]
  },
  {
   "cell_type": "code",
   "execution_count": 109,
   "metadata": {
    "colab": {
     "base_uri": "https://localhost:8080/"
    },
    "id": "hGginZppD2-R",
    "outputId": "35e51d6f-30fb-4d31-b856-90f3e2f3ceac"
   },
   "outputs": [
    {
     "data": {
      "text/plain": [
       "label\n",
       "2    7\n",
       "Name: count, dtype: int64"
      ]
     },
     "execution_count": 109,
     "metadata": {},
     "output_type": "execute_result"
    }
   ],
   "source": [
    "df[df['conseq_received_date'] == 1]['label'].value_counts()"
   ]
  },
  {
   "cell_type": "code",
   "execution_count": 110,
   "metadata": {
    "id": "TVZu0bsqAlLe"
   },
   "outputs": [],
   "source": [
    "final_features_list.append('conseq_received_date')"
   ]
  },
  {
   "cell_type": "markdown",
   "metadata": {
    "id": "-5zbfadj2RfL"
   },
   "source": [
    "---\n",
    "\n",
    "**Email Similarity:**\n",
    "\n",
    "---"
   ]
  },
  {
   "cell_type": "markdown",
   "metadata": {
    "id": "jvr716SAVILG"
   },
   "source": [
    "If more than one email, then all are tested, and the highest score is the output."
   ]
  },
  {
   "cell_type": "code",
   "execution_count": 111,
   "metadata": {
    "id": "h3_SxHQn1cyZ"
   },
   "outputs": [],
   "source": [
    "from difflib import SequenceMatcher\n",
    "\n",
    "def simScore(a, b):\n",
    "  if isinstance(a, float) or isinstance(b, float):\n",
    "    return 0\n",
    "  return SequenceMatcher(None, a, b).ratio()"
   ]
  },
  {
   "cell_type": "code",
   "execution_count": 112,
   "metadata": {
    "colab": {
     "base_uri": "https://localhost:8080/"
    },
    "id": "HdnnlPQe2itN",
    "outputId": "7316da30-9c68-4cf3-ce17-234e87257d88"
   },
   "outputs": [
    {
     "name": "stdout",
     "output_type": "stream",
     "text": [
      "0.5\n"
     ]
    }
   ],
   "source": [
    "print(simScore('ab', 'ba'))"
   ]
  },
  {
   "cell_type": "markdown",
   "metadata": {
    "id": "Eu5dQhknGgPb"
   },
   "source": [
    "---\n",
    "**Extracting Emails**:\n",
    "\n",
    "---"
   ]
  },
  {
   "cell_type": "code",
   "execution_count": 113,
   "metadata": {
    "id": "X-xlshJ-2T-s"
   },
   "outputs": [],
   "source": [
    "# emails in brackets '<>' are matched first, and if none, then other emails are matched\n",
    "def extract_emails(row, col_name):\n",
    "\n",
    "  in_brackets = re.findall(r'<([a-zA-Z0-9+._-]+@[a-zA-Z0-9._-]+\\.[a-zA-Z0-9_-]+)>', row[col_name])\n",
    "\n",
    "  if len(in_brackets) == 0:\n",
    "    not_in_brackets = re.findall(r'([a-zA-Z0-9+._-]+@[a-zA-Z0-9._-]+\\.[a-zA-Z0-9_-]+)', row[col_name])\n",
    "    if len(not_in_brackets) == 0:\n",
    "      return []\n",
    "    else:\n",
    "      return not_in_brackets\n",
    "  else:\n",
    "    return in_brackets"
   ]
  },
  {
   "cell_type": "code",
   "execution_count": 114,
   "metadata": {},
   "outputs": [],
   "source": [
    "df['errors-to'] = ''"
   ]
  },
  {
   "cell_type": "code",
   "execution_count": 115,
   "metadata": {
    "id": "Zwt5vDKv5T4R"
   },
   "outputs": [],
   "source": [
    "emails_from = df.apply(extract_emails, col_name='from', axis=1)\n",
    "emails_message_id = df.apply(extract_emails, col_name='message-id', axis=1)\n",
    "emails_return_path = df.apply(extract_emails, col_name='return-path', axis=1)\n",
    "emails_reply_to = df.apply(extract_emails, col_name='reply-to', axis=1)\n",
    "emails_errors_to = df.apply(extract_emails, col_name='errors-to', axis=1)\n",
    "emails_in_reply_to = df.apply(extract_emails, col_name='in-reply-to', axis=1)\n",
    "emails_references = df.apply(extract_emails, col_name='references', axis=1)\n",
    "emails_to = df.apply(extract_emails, col_name='to', axis=1)\n",
    "emails_cc = df.apply(extract_emails, col_name='cc', axis=1)\n",
    "emails_sender = df.apply(extract_emails, col_name='sender', axis=1)\n",
    "\n",
    "#simScores = domains_df[['return', 'from']].apply(lambda x: simScore(*x), axis=1)\n",
    "#df['SimScore_return_from'] = simScores"
   ]
  },
  {
   "cell_type": "code",
   "execution_count": 116,
   "metadata": {
    "id": "Z7I-fvEv70YW"
   },
   "outputs": [],
   "source": [
    "emails_df = pd.concat([emails_from, emails_message_id, emails_return_path, \n",
    "                        emails_errors_to, emails_reply_to, emails_in_reply_to, \n",
    "                        emails_references, emails_to, emails_cc, emails_sender], axis=1)\n",
    "emails_df = emails_df.set_axis(['from', 'message-id', 'return-path', 'errors-to', 'reply-to',\n",
    "                     'in-reply-to', 'references', 'to', 'cc', 'sender'], \n",
    "                    axis=1)"
   ]
  },
  {
   "cell_type": "code",
   "execution_count": 117,
   "metadata": {
    "id": "_6dE-4fdFDIf"
   },
   "outputs": [],
   "source": [
    "def email_same_check(row, first_col, second_col):\n",
    "  vals1 = row[first_col]\n",
    "  vals2 = row[second_col]\n",
    "\n",
    "  for val1 in vals1:\n",
    "    for val2 in vals2:\n",
    "      if val1 == val2:\n",
    "        return 1\n",
    "\n",
    "  return 0"
   ]
  },
  {
   "cell_type": "code",
   "execution_count": 118,
   "metadata": {
    "id": "ZgU7zDwEhAja"
   },
   "outputs": [],
   "source": [
    "emails_to_check = [('from', 'reply-to')]\n",
    "\n",
    "for val in emails_to_check:\n",
    "  first_field = val[0]\n",
    "  second_field = val[1]\n",
    "  new_col_name = 'email_match_' + first_field + '_' + second_field\n",
    "\n",
    "  df[new_col_name] = emails_df.apply(email_same_check, first_col=first_field, \n",
    "                  second_col=second_field, axis=1)\n",
    "  final_features_list.append(new_col_name)"
   ]
  },
  {
   "cell_type": "markdown",
   "metadata": {
    "id": "gScOp6RgW71w"
   },
   "source": [
    "**Extracting Domains:**"
   ]
  },
  {
   "cell_type": "code",
   "execution_count": 119,
   "metadata": {
    "id": "X_O1pim97B7L"
   },
   "outputs": [],
   "source": [
    "def extract_domains(row, col_name):\n",
    "  emails_list = row[col_name]\n",
    "\n",
    "  if len(emails_list) == 0:\n",
    "    return []\n",
    "  else:\n",
    "    domains_list = []\n",
    "    for email in emails_list:\n",
    "      if len(email.split('.')) < 2:\n",
    "        continue\n",
    "      else:\n",
    "        main_domain = email.split('@')[-1]\n",
    "        main_domain = main_domain.split('.')[-2:]\n",
    "        main_domain = main_domain[0] + '.' + re.sub('\\W+','', main_domain[1])\n",
    "        domains_list.append(main_domain.lower())\n",
    "    return domains_list"
   ]
  },
  {
   "cell_type": "code",
   "execution_count": 120,
   "metadata": {
    "id": "cxXiXh026t0B"
   },
   "outputs": [],
   "source": [
    "domains_from = emails_df.apply(extract_domains, col_name='from', axis=1)\n",
    "domains_message_id = emails_df.apply(extract_domains, col_name='message-id', axis=1)\n",
    "domains_return_path = emails_df.apply(extract_domains, col_name='return-path', axis=1)\n",
    "domains_reply_to = emails_df.apply(extract_domains, col_name='reply-to', axis=1)\n",
    "domains_errors_to = emails_df.apply(extract_domains, col_name='errors-to', axis=1)\n",
    "domains_in_reply_to = emails_df.apply(extract_domains, col_name='in-reply-to', axis=1)\n",
    "domains_references = emails_df.apply(extract_domains, col_name='references', axis=1)\n",
    "domains_to = emails_df.apply(extract_domains, col_name='to', axis=1)\n",
    "domains_cc = emails_df.apply(extract_domains, col_name='cc', axis=1)\n",
    "domains_sender = emails_df.apply(extract_domains, col_name='sender', axis=1)"
   ]
  },
  {
   "cell_type": "code",
   "execution_count": 121,
   "metadata": {
    "id": "DieLyv-w8zLx"
   },
   "outputs": [],
   "source": [
    "domains_df = pd.concat([domains_from, domains_message_id, domains_return_path, \n",
    "                        domains_errors_to, domains_reply_to, domains_in_reply_to, \n",
    "                        domains_references, domains_to, domains_cc, domains_sender], axis=1)\n",
    "domains_df = domains_df.set_axis(['from_domains', 'message-id_domains', 'return-path_domains', 'errors-to_domains', 'reply-to_domains',\n",
    "                     'in-reply-to_domains', 'references_domains', 'to_domains', 'cc_domains', 'sender_domains'], \n",
    "                    axis=1)\n",
    "\n",
    "df = pd.concat([df,domains_df], axis=1)"
   ]
  },
  {
   "cell_type": "code",
   "execution_count": 122,
   "metadata": {
    "colab": {
     "base_uri": "https://localhost:8080/"
    },
    "id": "DQoihiTUPx0-",
    "outputId": "e6fc5844-0d5f-4e84-d7e9-42df63bfcd62"
   },
   "outputs": [
    {
     "data": {
      "text/plain": [
       "(245, 130)"
      ]
     },
     "execution_count": 122,
     "metadata": {},
     "output_type": "execute_result"
    }
   ],
   "source": [
    "df.shape"
   ]
  },
  {
   "cell_type": "markdown",
   "metadata": {
    "id": "a85nIZNM1PYR"
   },
   "source": [
    "Adding in the value of message-id domain (1 if contains uwaterloo.ca, otherwise 0)"
   ]
  },
  {
   "cell_type": "code",
   "execution_count": 123,
   "metadata": {
    "id": "OKYeOgLazSh7"
   },
   "outputs": [],
   "source": [
    "def extract_domain_message_id(row):\n",
    "  val = row['message-id_domains']\n",
    "  if len(val) == 0:\n",
    "    return ''\n",
    "  else:\n",
    "    return val[0]"
   ]
  },
  {
   "cell_type": "code",
   "execution_count": 124,
   "metadata": {
    "colab": {
     "base_uri": "https://localhost:8080/"
    },
    "id": "WmrgOGTBzisR",
    "outputId": "9bfe2d58-3c66-44a8-81ce-8e41be0234a4"
   },
   "outputs": [
    {
     "data": {
      "text/plain": [
       "domain_val_message-id\n",
       "amazonses.com         50\n",
       "                      49\n",
       "monkey.org            10\n",
       "serverpod.net          9\n",
       "com.br                 5\n",
       "                      ..\n",
       "medelite.org           1\n",
       "alibaba.com            1\n",
       "sumsjobz.sbs           1\n",
       "mailcarrier-sl.com     1\n",
       "sofamekar.com          1\n",
       "Name: count, Length: 107, dtype: int64"
      ]
     },
     "execution_count": 124,
     "metadata": {},
     "output_type": "execute_result"
    }
   ],
   "source": [
    "df['domain_val_message-id'] = domains_df.apply(extract_domain_message_id, axis=1)\n",
    "df['domain_val_message-id'].value_counts()"
   ]
  },
  {
   "cell_type": "code",
   "execution_count": 125,
   "metadata": {
    "id": "vJyAgFWj0H6e"
   },
   "outputs": [],
   "source": [
    "df.loc[~df['domain_val_message-id'].astype(str).str.contains('uwaterloo.ca'), 'domain_val_message-id'] = 0\n",
    "df.loc[df['domain_val_message-id'].astype(str).str.contains('uwaterloo.ca'), 'domain_val_message-id'] = 1"
   ]
  },
  {
   "cell_type": "code",
   "execution_count": 126,
   "metadata": {
    "colab": {
     "base_uri": "https://localhost:8080/"
    },
    "id": "z7FvaphJ0TcS",
    "outputId": "a157a470-cdba-4dab-c9dd-1b355cdf2243"
   },
   "outputs": [
    {
     "data": {
      "text/plain": [
       "domain_val_message-id\n",
       "0    245\n",
       "Name: count, dtype: int64"
      ]
     },
     "execution_count": 126,
     "metadata": {},
     "output_type": "execute_result"
    }
   ],
   "source": [
    "df['domain_val_message-id'].value_counts()"
   ]
  },
  {
   "cell_type": "code",
   "execution_count": 127,
   "metadata": {
    "id": "xpsZ0pBy1J1y"
   },
   "outputs": [],
   "source": [
    "final_features_list.append('domain_val_message-id')"
   ]
  },
  {
   "cell_type": "markdown",
   "metadata": {
    "id": "E5gk2NOLAcvi"
   },
   "source": [
    "---\n",
    "\n",
    "**Domain Matching:**\n",
    "\n",
    "---"
   ]
  },
  {
   "cell_type": "code",
   "execution_count": 128,
   "metadata": {
    "id": "eMLBMxcYXGMq"
   },
   "outputs": [],
   "source": [
    "# Returns 0 if no matches, 1 if at least one match\n",
    "def domain_match_check(row, first_col, second_col):\n",
    "\n",
    "  first_domain_list = row[first_col]\n",
    "  second_domain_list = row[second_col]\n",
    "\n",
    "  if len(first_domain_list) == 0 or len(second_domain_list) == 0:\n",
    "    return 0\n",
    "  else:\n",
    "    for d1 in first_domain_list:\n",
    "      for d2 in second_domain_list:\n",
    "        if d1 == d2:\n",
    "          return 1\n",
    "    return 0"
   ]
  },
  {
   "cell_type": "code",
   "execution_count": 129,
   "metadata": {
    "id": "0IdvlYDl68u2"
   },
   "outputs": [],
   "source": [
    "domain_fields_to_check = [('message-id_domains', 'from_domains'), ('from_domains', 'return-path_domains'), ('message-id_domains', 'return-path_domains'), ('message-id_domains', 'sender_domains'), ('message-id_domains', 'reply-to_domains'),\n",
    "                          ('return-path_domains', 'reply-to_domains'), ('reply-to_domains', 'to_domains'), ('to_domains', 'in-reply-to_domains'), ('errors-to_domains', 'message-id_domains'), ('errors-to_domains', 'from_domains'), ('errors-to_domains', 'sender_domains'),\n",
    "                          ('errors-to_domains', 'reply-to_domains'), ('sender_domains', 'from_domains'), ('references_domains', 'reply-to_domains'), ('references_domains', 'in-reply-to_domains'), ('references_domains', 'to_domains'), ('from_domains', 'reply-to_domains'),\n",
    "                          ('to_domains', 'from_domains'), ('to_domains', 'message-id_domains')]\n",
    "\n",
    "for val in domain_fields_to_check:\n",
    "  first_field = val[0].replace('_domains', '')\n",
    "  second_field = val[1].replace('_domains', '')\n",
    "  new_col_name = 'domain_match_' + first_field + '_' + second_field \n",
    "\n",
    "  df[new_col_name] = domains_df.apply(domain_match_check, first_col = val[0], \n",
    "                              second_col= val[1], axis=1)\n",
    "  final_features_list.append(new_col_name)\n"
   ]
  },
  {
   "cell_type": "markdown",
   "metadata": {
    "id": "vHnvqHlgFQvK"
   },
   "source": [
    "**Domain Matching (involving 'Received' fields):**"
   ]
  },
  {
   "cell_type": "code",
   "execution_count": 130,
   "metadata": {
    "id": "D9n9R1WvHC5k"
   },
   "outputs": [],
   "source": [
    "parser = ReceivedParser()"
   ]
  },
  {
   "cell_type": "code",
   "execution_count": 131,
   "metadata": {
    "colab": {
     "base_uri": "https://localhost:8080/",
     "height": 0
    },
    "id": "8l5XpRJ8Kez0",
    "outputId": "f09c22c1-8085-4b58-c7d8-a4115878470b"
   },
   "outputs": [
    {
     "data": {
      "text/html": [
       "<div>\n",
       "<style scoped>\n",
       "    .dataframe tbody tr th:only-of-type {\n",
       "        vertical-align: middle;\n",
       "    }\n",
       "\n",
       "    .dataframe tbody tr th {\n",
       "        vertical-align: top;\n",
       "    }\n",
       "\n",
       "    .dataframe thead th {\n",
       "        text-align: right;\n",
       "    }\n",
       "</style>\n",
       "<table border=\"1\" class=\"dataframe\">\n",
       "  <thead>\n",
       "    <tr style=\"text-align: right;\">\n",
       "      <th></th>\n",
       "      <th>received1</th>\n",
       "      <th>received2</th>\n",
       "      <th>received3</th>\n",
       "      <th>received4</th>\n",
       "      <th>received5</th>\n",
       "      <th>received6</th>\n",
       "      <th>received7</th>\n",
       "      <th>received8</th>\n",
       "      <th>hops</th>\n",
       "      <th>subject</th>\n",
       "      <th>...</th>\n",
       "      <th>domain_match_errors-to_from</th>\n",
       "      <th>domain_match_errors-to_sender</th>\n",
       "      <th>domain_match_errors-to_reply-to</th>\n",
       "      <th>domain_match_sender_from</th>\n",
       "      <th>domain_match_references_reply-to</th>\n",
       "      <th>domain_match_references_in-reply-to</th>\n",
       "      <th>domain_match_references_to</th>\n",
       "      <th>domain_match_from_reply-to</th>\n",
       "      <th>domain_match_to_from</th>\n",
       "      <th>domain_match_to_message-id</th>\n",
       "    </tr>\n",
       "  </thead>\n",
       "  <tbody>\n",
       "    <tr>\n",
       "      <th>0</th>\n",
       "      <td>from out.smarshmail.com (out.smarshmail.com [199.193.206.151])\\n\\tby imf04.b.hostedemail.com (Postfix) with ESMTP id AD63B100335B4\\n\\tfor &lt;jose@monkey.org&gt;; Wed, 12 Jan 2022 14:09:37 +0000 (UTC)</td>\n",
       "      <td>from ggg.mqn1tzeu2jze1gwcnkzezpilvh.phxx.internal.cloudapp.net\\n (20.150.148.255) by MBX125-W8-CO-3.exch125.serverpod.net (10.224.13.216) with\\n Microsoft SMTP Server (version=TLS1_2,\\n cipher=TLS_ECDHE_RSA_WITH_AES_256_CBC_SHA384_P521) id 15.1.2375.17; Wed, 12\\n Jan 2022 06:09:35 -0800</td>\n",
       "      <td></td>\n",
       "      <td></td>\n",
       "      <td></td>\n",
       "      <td></td>\n",
       "      <td></td>\n",
       "      <td></td>\n",
       "      <td>0</td>\n",
       "      <td>Mail Delivery Failed: Returning Message to Sender</td>\n",
       "      <td>...</td>\n",
       "      <td>0</td>\n",
       "      <td>0</td>\n",
       "      <td>0</td>\n",
       "      <td>0</td>\n",
       "      <td>0</td>\n",
       "      <td>0</td>\n",
       "      <td>0</td>\n",
       "      <td>0</td>\n",
       "      <td>0</td>\n",
       "      <td>0</td>\n",
       "    </tr>\n",
       "    <tr>\n",
       "      <th>1</th>\n",
       "      <td>from out.smarshmail.com (out.smarshmail.com [199.193.206.142])\\n\\tby imf28.b.hostedemail.com (Postfix) with ESMTP id 291DC18577D10\\n\\tfor &lt;jose@monkey.org&gt;; Wed, 12 Jan 2022 15:26:33 +0000 (UTC)</td>\n",
       "      <td>from ggg.mqn1tzeu2jze1gwcnkzezpilvh.phxx.internal.cloudapp.net\\n (20.150.148.255) by MBX125-W3-CO-4.exch125.serverpod.net (10.224.13.158) with\\n Microsoft SMTP Server (version=TLS1_2,\\n cipher=TLS_ECDHE_RSA_WITH_AES_256_CBC_SHA384_P521) id 15.1.2375.17; Wed, 12\\n Jan 2022 07:26:32 -0800</td>\n",
       "      <td></td>\n",
       "      <td></td>\n",
       "      <td></td>\n",
       "      <td></td>\n",
       "      <td></td>\n",
       "      <td></td>\n",
       "      <td>0</td>\n",
       "      <td>Mail Delivery Failed: Returning Message to Sender</td>\n",
       "      <td>...</td>\n",
       "      <td>0</td>\n",
       "      <td>0</td>\n",
       "      <td>0</td>\n",
       "      <td>0</td>\n",
       "      <td>0</td>\n",
       "      <td>0</td>\n",
       "      <td>0</td>\n",
       "      <td>0</td>\n",
       "      <td>0</td>\n",
       "      <td>0</td>\n",
       "    </tr>\n",
       "    <tr>\n",
       "      <th>2</th>\n",
       "      <td>from out.smarshmail.com (out.smarshmail.com [199.193.206.151])\\n\\tby imf01.b.hostedemail.com (Postfix) with ESMTP id 72ED618473512\\n\\tfor &lt;jose@monkey.org&gt;; Wed, 12 Jan 2022 16:56:22 +0000 (UTC)</td>\n",
       "      <td>from jjj.1wziks11ksnudjck0lsghgz2cd.phxx.internal.cloudapp.net\\n (20.118.128.143) by MBX125-W8-CO-3.exch125.serverpod.net (10.224.13.216) with\\n Microsoft SMTP Server (version=TLS1_2,\\n cipher=TLS_ECDHE_RSA_WITH_AES_256_CBC_SHA384_P521) id 15.1.2375.17; Wed, 12\\n Jan 2022 08:56:21 -0800</td>\n",
       "      <td></td>\n",
       "      <td></td>\n",
       "      <td></td>\n",
       "      <td></td>\n",
       "      <td></td>\n",
       "      <td></td>\n",
       "      <td>0</td>\n",
       "      <td>Undeliverable: Message failed!</td>\n",
       "      <td>...</td>\n",
       "      <td>0</td>\n",
       "      <td>0</td>\n",
       "      <td>0</td>\n",
       "      <td>0</td>\n",
       "      <td>0</td>\n",
       "      <td>0</td>\n",
       "      <td>0</td>\n",
       "      <td>0</td>\n",
       "      <td>0</td>\n",
       "      <td>0</td>\n",
       "    </tr>\n",
       "    <tr>\n",
       "      <th>3</th>\n",
       "      <td>from out.smarshmail.com (out.smarshmail.com [199.193.206.151])\\n\\tby imf14.b.hostedemail.com (Postfix) with ESMTP id EC77110627451\\n\\tfor &lt;jose@monkey.org&gt;; Thu, 13 Jan 2022 11:26:10 +0000 (UTC)</td>\n",
       "      <td>from chc.tqfdehd2iccepi0sf1x2bncwsc.ex.internal.cloudapp.net\\n (20.98.22.69) by MBX125-W8-CO-2.exch125.serverpod.net (10.224.13.214) with\\n Microsoft SMTP Server (version=TLS1_2,\\n cipher=TLS_ECDHE_RSA_WITH_AES_256_CBC_SHA384_P521) id 15.1.2375.17; Thu, 13\\n Jan 2022 03:26:09 -0800</td>\n",
       "      <td></td>\n",
       "      <td></td>\n",
       "      <td></td>\n",
       "      <td></td>\n",
       "      <td></td>\n",
       "      <td></td>\n",
       "      <td>0</td>\n",
       "      <td>Mail delivery failed: returning message to sender - jose@monkey.org</td>\n",
       "      <td>...</td>\n",
       "      <td>0</td>\n",
       "      <td>0</td>\n",
       "      <td>0</td>\n",
       "      <td>0</td>\n",
       "      <td>0</td>\n",
       "      <td>0</td>\n",
       "      <td>0</td>\n",
       "      <td>0</td>\n",
       "      <td>0</td>\n",
       "      <td>0</td>\n",
       "    </tr>\n",
       "    <tr>\n",
       "      <th>4</th>\n",
       "      <td>from out.smarshmail.com (out.smarshmail.com [199.193.206.148])\\n\\tby imf06.b.hostedemail.com (Postfix) with ESMTP id 06B9A1B2\\n\\tfor &lt;jose@monkey.org&gt;; Tue, 18 Jan 2022 15:37:33 +0000 (UTC)</td>\n",
       "      <td>from MBX125-W8-CO-1.exch125.serverpod.net (10.224.13.212) by\\n MBX125-W6-CO-3.exch125.serverpod.net (10.224.13.192) with Microsoft SMTP\\n Server (version=TLS1_2, cipher=TLS_ECDHE_RSA_WITH_AES_256_CBC_SHA384_P521) id\\n 15.1.2375.17; Tue, 18 Jan 2022 07:37:33 -0800</td>\n",
       "      <td>from green.o1ltdsospz4erb4ns0lx4klihd.cx.internal.cloudapp.net\\n (52.167.216.166) by MBX125-W8-CO-1.exch125.serverpod.net (10.224.13.212) with\\n Microsoft SMTP Server (version=TLS1_2,\\n cipher=TLS_ECDHE_RSA_WITH_AES_256_CBC_SHA384_P521) id 15.1.2375.17; Tue, 18\\n Jan 2022 07:37:29 -0800</td>\n",
       "      <td></td>\n",
       "      <td></td>\n",
       "      <td></td>\n",
       "      <td></td>\n",
       "      <td></td>\n",
       "      <td>1</td>\n",
       "      <td>Mail Delivery Failed: Returning Message to Sender</td>\n",
       "      <td>...</td>\n",
       "      <td>0</td>\n",
       "      <td>0</td>\n",
       "      <td>0</td>\n",
       "      <td>0</td>\n",
       "      <td>0</td>\n",
       "      <td>0</td>\n",
       "      <td>0</td>\n",
       "      <td>0</td>\n",
       "      <td>0</td>\n",
       "      <td>0</td>\n",
       "    </tr>\n",
       "  </tbody>\n",
       "</table>\n",
       "<p>5 rows × 150 columns</p>\n",
       "</div>"
      ],
      "text/plain": [
       "                                                                                                                                                                                            received1  \\\n",
       "0  from out.smarshmail.com (out.smarshmail.com [199.193.206.151])\\n\\tby imf04.b.hostedemail.com (Postfix) with ESMTP id AD63B100335B4\\n\\tfor <jose@monkey.org>; Wed, 12 Jan 2022 14:09:37 +0000 (UTC)   \n",
       "1  from out.smarshmail.com (out.smarshmail.com [199.193.206.142])\\n\\tby imf28.b.hostedemail.com (Postfix) with ESMTP id 291DC18577D10\\n\\tfor <jose@monkey.org>; Wed, 12 Jan 2022 15:26:33 +0000 (UTC)   \n",
       "2  from out.smarshmail.com (out.smarshmail.com [199.193.206.151])\\n\\tby imf01.b.hostedemail.com (Postfix) with ESMTP id 72ED618473512\\n\\tfor <jose@monkey.org>; Wed, 12 Jan 2022 16:56:22 +0000 (UTC)   \n",
       "3  from out.smarshmail.com (out.smarshmail.com [199.193.206.151])\\n\\tby imf14.b.hostedemail.com (Postfix) with ESMTP id EC77110627451\\n\\tfor <jose@monkey.org>; Thu, 13 Jan 2022 11:26:10 +0000 (UTC)   \n",
       "4       from out.smarshmail.com (out.smarshmail.com [199.193.206.148])\\n\\tby imf06.b.hostedemail.com (Postfix) with ESMTP id 06B9A1B2\\n\\tfor <jose@monkey.org>; Tue, 18 Jan 2022 15:37:33 +0000 (UTC)   \n",
       "\n",
       "                                                                                                                                                                                                                                                                                         received2  \\\n",
       "0  from ggg.mqn1tzeu2jze1gwcnkzezpilvh.phxx.internal.cloudapp.net\\n (20.150.148.255) by MBX125-W8-CO-3.exch125.serverpod.net (10.224.13.216) with\\n Microsoft SMTP Server (version=TLS1_2,\\n cipher=TLS_ECDHE_RSA_WITH_AES_256_CBC_SHA384_P521) id 15.1.2375.17; Wed, 12\\n Jan 2022 06:09:35 -0800   \n",
       "1  from ggg.mqn1tzeu2jze1gwcnkzezpilvh.phxx.internal.cloudapp.net\\n (20.150.148.255) by MBX125-W3-CO-4.exch125.serverpod.net (10.224.13.158) with\\n Microsoft SMTP Server (version=TLS1_2,\\n cipher=TLS_ECDHE_RSA_WITH_AES_256_CBC_SHA384_P521) id 15.1.2375.17; Wed, 12\\n Jan 2022 07:26:32 -0800   \n",
       "2  from jjj.1wziks11ksnudjck0lsghgz2cd.phxx.internal.cloudapp.net\\n (20.118.128.143) by MBX125-W8-CO-3.exch125.serverpod.net (10.224.13.216) with\\n Microsoft SMTP Server (version=TLS1_2,\\n cipher=TLS_ECDHE_RSA_WITH_AES_256_CBC_SHA384_P521) id 15.1.2375.17; Wed, 12\\n Jan 2022 08:56:21 -0800   \n",
       "3       from chc.tqfdehd2iccepi0sf1x2bncwsc.ex.internal.cloudapp.net\\n (20.98.22.69) by MBX125-W8-CO-2.exch125.serverpod.net (10.224.13.214) with\\n Microsoft SMTP Server (version=TLS1_2,\\n cipher=TLS_ECDHE_RSA_WITH_AES_256_CBC_SHA384_P521) id 15.1.2375.17; Thu, 13\\n Jan 2022 03:26:09 -0800   \n",
       "4                          from MBX125-W8-CO-1.exch125.serverpod.net (10.224.13.212) by\\n MBX125-W6-CO-3.exch125.serverpod.net (10.224.13.192) with Microsoft SMTP\\n Server (version=TLS1_2, cipher=TLS_ECDHE_RSA_WITH_AES_256_CBC_SHA384_P521) id\\n 15.1.2375.17; Tue, 18 Jan 2022 07:37:33 -0800   \n",
       "\n",
       "                                                                                                                                                                                                                                                                                         received3  \\\n",
       "0                                                                                                                                                                                                                                                                                                    \n",
       "1                                                                                                                                                                                                                                                                                                    \n",
       "2                                                                                                                                                                                                                                                                                                    \n",
       "3                                                                                                                                                                                                                                                                                                    \n",
       "4  from green.o1ltdsospz4erb4ns0lx4klihd.cx.internal.cloudapp.net\\n (52.167.216.166) by MBX125-W8-CO-1.exch125.serverpod.net (10.224.13.212) with\\n Microsoft SMTP Server (version=TLS1_2,\\n cipher=TLS_ECDHE_RSA_WITH_AES_256_CBC_SHA384_P521) id 15.1.2375.17; Tue, 18\\n Jan 2022 07:37:29 -0800   \n",
       "\n",
       "  received4 received5 received6 received7 received8  hops  \\\n",
       "0                                                       0   \n",
       "1                                                       0   \n",
       "2                                                       0   \n",
       "3                                                       0   \n",
       "4                                                       1   \n",
       "\n",
       "                                                               subject  ...  \\\n",
       "0                    Mail Delivery Failed: Returning Message to Sender  ...   \n",
       "1                    Mail Delivery Failed: Returning Message to Sender  ...   \n",
       "2                                       Undeliverable: Message failed!  ...   \n",
       "3  Mail delivery failed: returning message to sender - jose@monkey.org  ...   \n",
       "4                    Mail Delivery Failed: Returning Message to Sender  ...   \n",
       "\n",
       "  domain_match_errors-to_from domain_match_errors-to_sender  \\\n",
       "0                           0                             0   \n",
       "1                           0                             0   \n",
       "2                           0                             0   \n",
       "3                           0                             0   \n",
       "4                           0                             0   \n",
       "\n",
       "  domain_match_errors-to_reply-to domain_match_sender_from  \\\n",
       "0                               0                        0   \n",
       "1                               0                        0   \n",
       "2                               0                        0   \n",
       "3                               0                        0   \n",
       "4                               0                        0   \n",
       "\n",
       "  domain_match_references_reply-to domain_match_references_in-reply-to  \\\n",
       "0                                0                                   0   \n",
       "1                                0                                   0   \n",
       "2                                0                                   0   \n",
       "3                                0                                   0   \n",
       "4                                0                                   0   \n",
       "\n",
       "  domain_match_references_to domain_match_from_reply-to domain_match_to_from  \\\n",
       "0                          0                          0                    0   \n",
       "1                          0                          0                    0   \n",
       "2                          0                          0                    0   \n",
       "3                          0                          0                    0   \n",
       "4                          0                          0                    0   \n",
       "\n",
       "  domain_match_to_message-id  \n",
       "0                          0  \n",
       "1                          0  \n",
       "2                          0  \n",
       "3                          0  \n",
       "4                          0  \n",
       "\n",
       "[5 rows x 150 columns]"
      ]
     },
     "execution_count": 131,
     "metadata": {},
     "output_type": "execute_result"
    }
   ],
   "source": [
    "df.head(5)"
   ]
  },
  {
   "cell_type": "code",
   "execution_count": 132,
   "metadata": {
    "id": "EGbv61yzKamL"
   },
   "outputs": [],
   "source": [
    "test = parser.parse('from cnnimail22.cnn.com (cnnimail22.cnn.com [64.236.25.79])\\n\\tby speedy.uwaterloo.ca (8.12.8/8.12.5) with ESMTP id l39IYQ0I018124\\n\\tfor <ktwarwic@SPEEDY.UWATERLOO.CA>; Mon, 9 Apr 2007 14:34:26 -0400')"
   ]
  },
  {
   "cell_type": "code",
   "execution_count": 133,
   "metadata": {
    "id": "no3MCYrv2h_S"
   },
   "outputs": [],
   "source": [
    "def get_for_domain_last_received(row):\n",
    "  last_received_val = row['last_received']\n",
    "  parsed_val = parser.parse(last_received_val)\n",
    "\n",
    "  if check_if_valid(parsed_val, 'envelope_for'):\n",
    "    main_domain = parsed_val['envelope_for'].split('@')[-1]\n",
    "    main_domain = main_domain.split('.')[-2:]\n",
    "    main_domain = main_domain[0] + '.' + re.sub('\\W+','', main_domain[1])\n",
    "    return main_domain.lower()\n",
    "  else:\n",
    "    return 'NA'"
   ]
  },
  {
   "cell_type": "code",
   "execution_count": 134,
   "metadata": {
    "id": "jHj1N-NkNrkc"
   },
   "outputs": [],
   "source": [
    "def check_for_received_domain_equal(row, field_name):\n",
    "  field_vals = row[field_name]\n",
    "\n",
    "  for item in field_vals:\n",
    "    if item == get_for_domain_last_received(row):\n",
    "      return 1\n",
    "  return 0"
   ]
  },
  {
   "cell_type": "code",
   "execution_count": 135,
   "metadata": {
    "colab": {
     "base_uri": "https://localhost:8080/"
    },
    "id": "fUhS9HCvNTFf",
    "outputId": "6648d101-a89e-4b5c-baaf-70a45a6e381a"
   },
   "outputs": [
    {
     "data": {
      "text/plain": [
       "domain_match_to_received\n",
       "0    245\n",
       "Name: count, dtype: int64"
      ]
     },
     "execution_count": 135,
     "metadata": {},
     "output_type": "execute_result"
    }
   ],
   "source": [
    "df['domain_match_to_received'] = df.apply(check_for_received_domain_equal, field_name='to_domains', axis=1)\n",
    "df['domain_match_to_received'].value_counts()"
   ]
  },
  {
   "cell_type": "code",
   "execution_count": 136,
   "metadata": {
    "colab": {
     "base_uri": "https://localhost:8080/"
    },
    "id": "LvyByWjsOXbm",
    "outputId": "afbd3157-e1af-431c-b911-7ad77fa9a323"
   },
   "outputs": [
    {
     "data": {
      "text/plain": [
       "domain_match_reply-to_received\n",
       "0    245\n",
       "Name: count, dtype: int64"
      ]
     },
     "execution_count": 136,
     "metadata": {},
     "output_type": "execute_result"
    }
   ],
   "source": [
    "df['domain_match_reply-to_received'] = df.apply(check_for_received_domain_equal, field_name='reply-to_domains', axis=1)\n",
    "df['domain_match_reply-to_received'].value_counts()"
   ]
  },
  {
   "cell_type": "code",
   "execution_count": 137,
   "metadata": {
    "id": "93a18cBa2sch"
   },
   "outputs": [],
   "source": [
    "def get_from_domain_first_received(row):\n",
    "  first_received_val = row['first_received']\n",
    "  parsed_val = parser.parse(first_received_val)\n",
    "\n",
    "  domains_list = []\n",
    "  if check_if_valid(parsed_val, 'from_hostname'):\n",
    "    if len(parsed_val['from_hostname'].split('@')) == 2:\n",
    "\n",
    "      main_domain = parsed_val['from_hostname'].split('@')[-1]\n",
    "      if len(main_domain.split('.')) >= 2:\n",
    "        main_domain = main_domain.split('.')[-2:]\n",
    "        main_domain = main_domain[0] + '.' + re.sub('\\W+','', main_domain[1])\n",
    "        domains_list.append(main_domain.lower())\n",
    "\n",
    "  if check_if_valid(parsed_val, 'from_name'):\n",
    "    if len(parsed_val['from_name'].split('@')) == 2:\n",
    "\n",
    "      main_domain = parsed_val['from_name'].split('@')[-1]\n",
    "      if len(main_domain.split('.')) >= 2:\n",
    "        main_domain = main_domain.split('.')[-2:]\n",
    "        main_domain = main_domain[0] + '.' + re.sub('\\W+','', main_domain[1])\n",
    "        domains_list.append(main_domain.lower())\n",
    "    \n",
    "  return domains_list"
   ]
  },
  {
   "cell_type": "code",
   "execution_count": 138,
   "metadata": {
    "id": "91riVhwPVxK6"
   },
   "outputs": [],
   "source": [
    "def check_received_from_domain_equal(row, field_name):\n",
    "  field_vals = row[field_name]\n",
    "\n",
    "  domains_list_check = get_from_domain_first_received(row)\n",
    "  \n",
    "  for item in field_vals:\n",
    "    for item2 in domains_list_check:\n",
    "      if item == item2:\n",
    "        return 1\n",
    "  return 0"
   ]
  },
  {
   "cell_type": "code",
   "execution_count": 139,
   "metadata": {
    "colab": {
     "base_uri": "https://localhost:8080/"
    },
    "id": "QMIBROR4VqVN",
    "outputId": "bd34ea52-afc3-4042-d525-f9768b1ab8e9"
   },
   "outputs": [
    {
     "data": {
      "text/plain": [
       "domain_match_from_received\n",
       "0    245\n",
       "Name: count, dtype: int64"
      ]
     },
     "execution_count": 139,
     "metadata": {},
     "output_type": "execute_result"
    }
   ],
   "source": [
    "df['domain_match_from_received'] = df.apply(check_received_from_domain_equal, field_name='from_domains', axis=1)\n",
    "df['domain_match_from_received'].value_counts()"
   ]
  },
  {
   "cell_type": "code",
   "execution_count": 140,
   "metadata": {
    "colab": {
     "base_uri": "https://localhost:8080/"
    },
    "id": "V3zbgezOWD47",
    "outputId": "7b9cc1bf-67f4-41ce-e579-69f78822027c"
   },
   "outputs": [
    {
     "data": {
      "text/plain": [
       "domain_match_return-path_received\n",
       "0    245\n",
       "Name: count, dtype: int64"
      ]
     },
     "execution_count": 140,
     "metadata": {},
     "output_type": "execute_result"
    }
   ],
   "source": [
    "df['domain_match_return-path_received'] = df.apply(check_received_from_domain_equal, field_name='return-path_domains', axis=1)\n",
    "df['domain_match_return-path_received'].value_counts()"
   ]
  },
  {
   "cell_type": "code",
   "execution_count": 141,
   "metadata": {
    "id": "o_OzfuZwban7"
   },
   "outputs": [],
   "source": [
    "final_features_list.extend(['domain_match_reply-to_received', 'domain_match_to_received', 'domain_match_return-path_received', 'domain_match_from_received'])"
   ]
  },
  {
   "cell_type": "markdown",
   "metadata": {},
   "source": [
    "# **Outputting the processed data:**"
   ]
  },
  {
   "cell_type": "code",
   "execution_count": 142,
   "metadata": {},
   "outputs": [
    {
     "name": "stdout",
     "output_type": "stream",
     "text": [
      "hops\n",
      "hops\n",
      "0    180\n",
      "1     58\n",
      "2      7\n",
      "Name: count, dtype: int64\n",
      "\n",
      "\n",
      "missing_received1\n",
      "missing_received1\n",
      "0.0    245\n",
      "Name: count, dtype: int64\n",
      "\n",
      "\n",
      "missing_received2\n",
      "missing_received2\n",
      "0.0    138\n",
      "1.0    107\n",
      "Name: count, dtype: int64\n",
      "\n",
      "\n",
      "missing_received3\n",
      "missing_received3\n",
      "1.0    180\n",
      "0.0     65\n",
      "Name: count, dtype: int64\n",
      "\n",
      "\n",
      "missing_received4\n",
      "missing_received4\n",
      "1.0    226\n",
      "0.0     19\n",
      "Name: count, dtype: int64\n",
      "\n",
      "\n",
      "missing_received5\n",
      "missing_received5\n",
      "1.0    236\n",
      "0.0      9\n",
      "Name: count, dtype: int64\n",
      "\n",
      "\n",
      "missing_received6\n",
      "missing_received6\n",
      "1.0    238\n",
      "0.0      7\n",
      "Name: count, dtype: int64\n",
      "\n",
      "\n",
      "missing_received7\n",
      "missing_received7\n",
      "1.0    244\n",
      "0.0      1\n",
      "Name: count, dtype: int64\n",
      "\n",
      "\n",
      "missing_received8\n",
      "missing_received8\n",
      "1.0    244\n",
      "0.0      1\n",
      "Name: count, dtype: int64\n",
      "\n",
      "\n",
      "missing_hops\n",
      "missing_hops\n",
      "0.0    245\n",
      "Name: count, dtype: int64\n",
      "\n",
      "\n",
      "missing_subject\n",
      "missing_subject\n",
      "0.0    244\n",
      "1.0      1\n",
      "Name: count, dtype: int64\n",
      "\n",
      "\n",
      "missing_date\n",
      "missing_date\n",
      "0.0    245\n",
      "Name: count, dtype: int64\n",
      "\n",
      "\n",
      "missing_message-id\n",
      "missing_message-id\n",
      "0.0    235\n",
      "1.0     10\n",
      "Name: count, dtype: int64\n",
      "\n",
      "\n",
      "missing_from\n",
      "missing_from\n",
      "0.0    245\n",
      "Name: count, dtype: int64\n",
      "\n",
      "\n",
      "missing_return-path\n",
      "missing_return-path\n",
      "0.0    245\n",
      "Name: count, dtype: int64\n",
      "\n",
      "\n",
      "missing_to\n",
      "missing_to\n",
      "0.0    241\n",
      "1.0      4\n",
      "Name: count, dtype: int64\n",
      "\n",
      "\n",
      "missing_content-type\n",
      "missing_content-type\n",
      "0.0    245\n",
      "Name: count, dtype: int64\n",
      "\n",
      "\n",
      "missing_mime-version\n",
      "missing_mime-version\n",
      "0.0    244\n",
      "1.0      1\n",
      "Name: count, dtype: int64\n",
      "\n",
      "\n",
      "missing_x-mailer\n",
      "missing_x-mailer\n",
      "1.0    235\n",
      "0.0     10\n",
      "Name: count, dtype: int64\n",
      "\n",
      "\n",
      "missing_content-transfer-encoding\n",
      "missing_content-transfer-encoding\n",
      "1.0    123\n",
      "0.0    122\n",
      "Name: count, dtype: int64\n",
      "\n",
      "\n",
      "missing_x-mimeole\n",
      "missing_x-mimeole\n",
      "1.0    240\n",
      "0.0      5\n",
      "Name: count, dtype: int64\n",
      "\n",
      "\n",
      "missing_x-priority\n",
      "missing_x-priority\n",
      "1.0    237\n",
      "0.0      8\n",
      "Name: count, dtype: int64\n",
      "\n",
      "\n",
      "missing_x-virus-scanned\n",
      "missing_x-virus-scanned\n",
      "1.0    238\n",
      "0.0      7\n",
      "Name: count, dtype: int64\n",
      "\n",
      "\n",
      "missing_status\n",
      "missing_status\n",
      "0.0    245\n",
      "Name: count, dtype: int64\n",
      "\n",
      "\n",
      "missing_delivered-to\n",
      "missing_delivered-to\n",
      "0.0    245\n",
      "Name: count, dtype: int64\n",
      "\n",
      "\n",
      "missing_list-unsubscribe\n",
      "missing_list-unsubscribe\n",
      "1.0    237\n",
      "0.0      8\n",
      "Name: count, dtype: int64\n",
      "\n",
      "\n",
      "missing_x-msmail-priority\n",
      "missing_x-msmail-priority\n",
      "1.0    242\n",
      "0.0      3\n",
      "Name: count, dtype: int64\n",
      "\n",
      "\n",
      "missing_x-spam-status\n",
      "missing_x-spam-status\n",
      "0.0    245\n",
      "Name: count, dtype: int64\n",
      "\n",
      "\n",
      "missing_sender\n",
      "missing_sender\n",
      "1.0    241\n",
      "0.0      4\n",
      "Name: count, dtype: int64\n",
      "\n",
      "\n",
      "missing_reply-to\n",
      "missing_reply-to\n",
      "1.0    228\n",
      "0.0     17\n",
      "Name: count, dtype: int64\n",
      "\n",
      "\n",
      "missing_x-spam-level\n",
      "missing_x-spam-level\n",
      "1.0    240\n",
      "0.0      5\n",
      "Name: count, dtype: int64\n",
      "\n",
      "\n",
      "missing_x-spam-checker-version\n",
      "missing_x-spam-checker-version\n",
      "1.0    243\n",
      "0.0      2\n",
      "Name: count, dtype: int64\n",
      "\n",
      "\n",
      "missing_thread-index\n",
      "missing_thread-index\n",
      "1.0    240\n",
      "0.0      5\n",
      "Name: count, dtype: int64\n",
      "\n",
      "\n",
      "missing_cc\n",
      "missing_cc\n",
      "1.0    244\n",
      "0.0      1\n",
      "Name: count, dtype: int64\n",
      "\n",
      "\n",
      "missing_received-spf\n",
      "missing_received-spf\n",
      "1.0    241\n",
      "0.0      4\n",
      "Name: count, dtype: int64\n",
      "\n",
      "\n",
      "missing_domainkey-signature\n",
      "missing_domainkey-signature\n",
      "1.0    230\n",
      "0.0     15\n",
      "Name: count, dtype: int64\n",
      "\n",
      "\n",
      "missing_importance\n",
      "missing_importance\n",
      "1.0    242\n",
      "0.0      3\n",
      "Name: count, dtype: int64\n",
      "\n",
      "\n",
      "missing_label\n",
      "missing_label\n",
      "0.0    245\n",
      "Name: count, dtype: int64\n",
      "\n",
      "\n",
      "content-encoding-val\n",
      "content-encoding-val\n",
      "1    228\n",
      "0     17\n",
      "Name: count, dtype: int64\n",
      "\n",
      "\n",
      "received_str_forged\n",
      "received_str_forged\n",
      "0    245\n",
      "Name: count, dtype: int64\n",
      "\n",
      "\n",
      "str_content-encoding_empty\n",
      "str_content-encoding_empty\n",
      "1.0    123\n",
      "0.0    122\n",
      "Name: count, dtype: int64\n",
      "\n",
      "\n",
      "str_from_question\n",
      "str_from_question\n",
      "0.0    236\n",
      "1.0      9\n",
      "Name: count, dtype: int64\n",
      "\n",
      "\n",
      "str_from_exclam\n",
      "str_from_exclam\n",
      "0.0    245\n",
      "Name: count, dtype: int64\n",
      "\n",
      "\n",
      "str_from_chevron\n",
      "str_from_chevron\n",
      "1.0    230\n",
      "0.0     15\n",
      "Name: count, dtype: int64\n",
      "\n",
      "\n",
      "str_to_chevron\n",
      "str_to_chevron\n",
      "0.0    215\n",
      "1.0     30\n",
      "Name: count, dtype: int64\n",
      "\n",
      "\n",
      "str_to_undisclosed\n",
      "str_to_undisclosed\n",
      "0.0    244\n",
      "1.0      1\n",
      "Name: count, dtype: int64\n",
      "\n",
      "\n",
      "str_to_empty\n",
      "str_to_empty\n",
      "0.0    241\n",
      "1.0      4\n",
      "Name: count, dtype: int64\n",
      "\n",
      "\n",
      "str_message-ID_dollar\n",
      "str_message-ID_dollar\n",
      "0.0    241\n",
      "1.0      4\n",
      "Name: count, dtype: int64\n",
      "\n",
      "\n",
      "str_return-path_bounce\n",
      "str_return-path_bounce\n",
      "0.0    206\n",
      "1.0     39\n",
      "Name: count, dtype: int64\n",
      "\n",
      "\n",
      "str_return-path_empty\n",
      "str_return-path_empty\n",
      "0.0    245\n",
      "Name: count, dtype: int64\n",
      "\n",
      "\n",
      "str_reply-to_question\n",
      "str_reply-to_question\n",
      "0.0    244\n",
      "1.0      1\n",
      "Name: count, dtype: int64\n",
      "\n",
      "\n",
      "str_received-SPF_bad\n",
      "str_received-SPF_bad\n",
      "0.0    245\n",
      "Name: count, dtype: int64\n",
      "\n",
      "\n",
      "str_received-SPF_softfail\n",
      "str_received-SPF_softfail\n",
      "0.0    245\n",
      "Name: count, dtype: int64\n",
      "\n",
      "\n",
      "str_received-SPF_fail\n",
      "str_received-SPF_fail\n",
      "0.0    244\n",
      "1.0      1\n",
      "Name: count, dtype: int64\n",
      "\n",
      "\n",
      "str_content-type_texthtml\n",
      "str_content-type_texthtml\n",
      "0.0    136\n",
      "1.0    109\n",
      "Name: count, dtype: int64\n",
      "\n",
      "\n",
      "length_from\n",
      "length_from\n",
      "0    148\n",
      "1     97\n",
      "Name: count, dtype: int64\n",
      "\n",
      "\n",
      "num_recipients_to\n",
      "num_recipients_to\n",
      "1    235\n",
      "0      6\n",
      "2      4\n",
      "Name: count, dtype: int64\n",
      "\n",
      "\n",
      "num_recipients_cc\n",
      "num_recipients_cc\n",
      "0    244\n",
      "1      1\n",
      "Name: count, dtype: int64\n",
      "\n",
      "\n",
      "num_recipients_from\n",
      "num_recipients_from\n",
      "1    231\n",
      "0     11\n",
      "2      3\n",
      "Name: count, dtype: int64\n",
      "\n",
      "\n",
      "number_replies\n",
      "number_replies\n",
      "1    245\n",
      "Name: count, dtype: int64\n",
      "\n",
      "\n",
      "time_zone\n",
      "time_zone\n",
      "0    241\n",
      "1      4\n",
      "Name: count, dtype: int64\n",
      "\n",
      "\n",
      "x-priority\n",
      "x-priority\n",
      "0    241\n",
      "1      4\n",
      "Name: count, dtype: int64\n",
      "\n",
      "\n",
      "content-length\n",
      "content-length\n",
      "0    245\n",
      "Name: count, dtype: int64\n",
      "\n",
      "\n",
      "lines\n",
      "lines\n",
      "0    245\n",
      "Name: count, dtype: int64\n",
      "\n",
      "\n",
      "day_of_week\n",
      "day_of_week\n",
      "3    58\n",
      "4    47\n",
      "1    40\n",
      "2    35\n",
      "5    30\n",
      "6    20\n",
      "7    15\n",
      "Name: count, dtype: int64\n",
      "\n",
      "\n",
      "date_comp_date_received\n",
      "date_comp_date_received\n",
      "0    245\n",
      "Name: count, dtype: int64\n",
      "\n",
      "\n",
      "span_time\n",
      "span_time\n",
      "0    245\n",
      "Name: count, dtype: int64\n",
      "\n",
      "\n",
      "conseq_num_received_is_one\n",
      "conseq_num_received_is_one\n",
      "0    187\n",
      "1     58\n",
      "Name: count, dtype: int64\n",
      "\n",
      "\n",
      "conseq_received_good\n",
      "conseq_received_good\n",
      "1    185\n",
      "0     60\n",
      "Name: count, dtype: int64\n",
      "\n",
      "\n",
      "conseq_received_bad\n",
      "conseq_received_bad\n",
      "0    244\n",
      "1      1\n",
      "Name: count, dtype: int64\n",
      "\n",
      "\n",
      "conseq_received_unknown\n",
      "conseq_received_unknown\n",
      "0    244\n",
      "1      1\n",
      "Name: count, dtype: int64\n",
      "\n",
      "\n",
      "conseq_received_date\n",
      "conseq_received_date\n",
      "0    238\n",
      "1      7\n",
      "Name: count, dtype: int64\n",
      "\n",
      "\n",
      "email_match_from_reply-to\n",
      "email_match_from_reply-to\n",
      "0    235\n",
      "1     10\n",
      "Name: count, dtype: int64\n",
      "\n",
      "\n",
      "domain_val_message-id\n",
      "domain_val_message-id\n",
      "0    245\n",
      "Name: count, dtype: int64\n",
      "\n",
      "\n",
      "domain_match_message-id_from\n",
      "domain_match_message-id_from\n",
      "0    124\n",
      "1    121\n",
      "Name: count, dtype: int64\n",
      "\n",
      "\n",
      "domain_match_from_return-path\n",
      "domain_match_from_return-path\n",
      "1    158\n",
      "0     87\n",
      "Name: count, dtype: int64\n",
      "\n",
      "\n",
      "domain_match_message-id_return-path\n",
      "domain_match_message-id_return-path\n",
      "1    161\n",
      "0     84\n",
      "Name: count, dtype: int64\n",
      "\n",
      "\n",
      "domain_match_message-id_sender\n",
      "domain_match_message-id_sender\n",
      "0    244\n",
      "1      1\n",
      "Name: count, dtype: int64\n",
      "\n",
      "\n",
      "domain_match_message-id_reply-to\n",
      "domain_match_message-id_reply-to\n",
      "0    242\n",
      "1      3\n",
      "Name: count, dtype: int64\n",
      "\n",
      "\n",
      "domain_match_return-path_reply-to\n",
      "domain_match_return-path_reply-to\n",
      "0    238\n",
      "1      7\n",
      "Name: count, dtype: int64\n",
      "\n",
      "\n",
      "domain_match_reply-to_to\n",
      "domain_match_reply-to_to\n",
      "0    241\n",
      "1      4\n",
      "Name: count, dtype: int64\n",
      "\n",
      "\n",
      "domain_match_to_in-reply-to\n",
      "domain_match_to_in-reply-to\n",
      "0    245\n",
      "Name: count, dtype: int64\n",
      "\n",
      "\n",
      "domain_match_errors-to_message-id\n",
      "domain_match_errors-to_message-id\n",
      "0    245\n",
      "Name: count, dtype: int64\n",
      "\n",
      "\n",
      "domain_match_errors-to_from\n",
      "domain_match_errors-to_from\n",
      "0    245\n",
      "Name: count, dtype: int64\n",
      "\n",
      "\n",
      "domain_match_errors-to_sender\n",
      "domain_match_errors-to_sender\n",
      "0    245\n",
      "Name: count, dtype: int64\n",
      "\n",
      "\n",
      "domain_match_errors-to_reply-to\n",
      "domain_match_errors-to_reply-to\n",
      "0    245\n",
      "Name: count, dtype: int64\n",
      "\n",
      "\n",
      "domain_match_sender_from\n",
      "domain_match_sender_from\n",
      "0    243\n",
      "1      2\n",
      "Name: count, dtype: int64\n",
      "\n",
      "\n",
      "domain_match_references_reply-to\n",
      "domain_match_references_reply-to\n",
      "0    245\n",
      "Name: count, dtype: int64\n",
      "\n",
      "\n",
      "domain_match_references_in-reply-to\n",
      "domain_match_references_in-reply-to\n",
      "0    245\n",
      "Name: count, dtype: int64\n",
      "\n",
      "\n",
      "domain_match_references_to\n",
      "domain_match_references_to\n",
      "0    245\n",
      "Name: count, dtype: int64\n",
      "\n",
      "\n",
      "domain_match_from_reply-to\n",
      "domain_match_from_reply-to\n",
      "0    235\n",
      "1     10\n",
      "Name: count, dtype: int64\n",
      "\n",
      "\n",
      "domain_match_to_from\n",
      "domain_match_to_from\n",
      "0    228\n",
      "1     17\n",
      "Name: count, dtype: int64\n",
      "\n",
      "\n",
      "domain_match_to_message-id\n",
      "domain_match_to_message-id\n",
      "0    230\n",
      "1     15\n",
      "Name: count, dtype: int64\n",
      "\n",
      "\n",
      "domain_match_reply-to_received\n",
      "domain_match_reply-to_received\n",
      "0    245\n",
      "Name: count, dtype: int64\n",
      "\n",
      "\n",
      "domain_match_to_received\n",
      "domain_match_to_received\n",
      "0    245\n",
      "Name: count, dtype: int64\n",
      "\n",
      "\n",
      "domain_match_return-path_received\n",
      "domain_match_return-path_received\n",
      "0    245\n",
      "Name: count, dtype: int64\n",
      "\n",
      "\n",
      "domain_match_from_received\n",
      "domain_match_from_received\n",
      "0    245\n",
      "Name: count, dtype: int64\n",
      "\n",
      "\n"
     ]
    }
   ],
   "source": [
    "for item in final_features_list:\n",
    "  print(item)\n",
    "  print(df[item].value_counts())\n",
    "  print('\\n')"
   ]
  },
  {
   "cell_type": "code",
   "execution_count": 143,
   "metadata": {},
   "outputs": [
    {
     "data": {
      "text/plain": [
       "label\n",
       "2    215\n",
       "Name: count, dtype: int64"
      ]
     },
     "execution_count": 143,
     "metadata": {},
     "output_type": "execute_result"
    }
   ],
   "source": [
    "df[df['str_to_chevron'] == 0]['label'].value_counts()"
   ]
  },
  {
   "cell_type": "code",
   "execution_count": 144,
   "metadata": {},
   "outputs": [],
   "source": [
    "# Removes missing_received fields since received1 is always there, and the other ones\n",
    "# encode the same information as 'hops'. The other removed features have only one value,\n",
    "# or a strong majority towards one value.\n",
    "remove_list = ['missing_received1', 'missing_received2', 'missing_received3',\n",
    " 'missing_received4', 'missing_received5', 'missing_received6',\n",
    " 'missing_received7', 'missing_received8', 'missing_received9',\n",
    " 'missing_received10', 'missing_received11', 'missing_received12',\n",
    " 'missing_received13', 'missing_received14', 'missing_received15',\n",
    " 'missing_received16', 'missing_date', 'missing_message-id', 'missing_from',\n",
    " 'missing_return-path', 'str_to_undisclosed', 'str_return-path_empty',\n",
    " 'str_from_exclam', 'str_reply-to_question', 'str_received-SPF_bad', \n",
    " 'str_received-SPF_softfail', 'str_received-SPF_fail', 'str_reply-to_question', \n",
    " 'conseq_received_unknown', 'num_recipients_from', \n",
    " 'domain_match_reply-to_received', 'domain_match_return-path_received',\n",
    " 'domain_match_from_received']\n",
    "\n",
    "for v in remove_list:\n",
    "  if v in final_features_list:\n",
    "    final_features_list.remove(v)\n",
    "    \n",
    "final_features_list.append('label')"
   ]
  },
  {
   "cell_type": "code",
   "execution_count": 145,
   "metadata": {},
   "outputs": [],
   "source": [
    "df_final = df[final_features_list]"
   ]
  },
  {
   "cell_type": "code",
   "execution_count": 146,
   "metadata": {},
   "outputs": [
    {
     "data": {
      "text/plain": [
       "(245, 74)"
      ]
     },
     "execution_count": 146,
     "metadata": {},
     "output_type": "execute_result"
    }
   ],
   "source": [
    "df_final.shape"
   ]
  },
  {
   "cell_type": "code",
   "execution_count": null,
   "metadata": {},
   "outputs": [],
   "source": [
    "df_final"
   ]
  },
  {
   "cell_type": "code",
   "execution_count": 147,
   "metadata": {},
   "outputs": [],
   "source": [
    "df_final.to_csv('preprocessed_phishing_2022.csv', index=False)"
   ]
  }
 ],
 "metadata": {
  "colab": {
   "collapsed_sections": [
    "sCMEqns8jY-1",
    "F5A997Ekjh0E",
    "KvWjb8GwOM-y",
    "rJJ4WHSBFTWc",
    "nqHSyA4SyJ7K",
    "xhkNe2ql-cFP",
    "fMwsPWxpi2cG",
    "-_nEjwFOjUDI",
    "MyekmTK3q5TC",
    "RkQzXPCXUxme",
    "P1zXPP6trxSN",
    "iGZ561te2ONO",
    "rffvHbuzGO8c"
   ],
   "name": "Capstone Project - Email Headers.ipynb",
   "provenance": []
  },
  "kernelspec": {
   "display_name": "Python 3",
   "language": "python",
   "name": "python3"
  },
  "language_info": {
   "codemirror_mode": {
    "name": "ipython",
    "version": 3
   },
   "file_extension": ".py",
   "mimetype": "text/x-python",
   "name": "python",
   "nbconvert_exporter": "python",
   "pygments_lexer": "ipython3",
   "version": "3.9.6"
  }
 },
 "nbformat": 4,
 "nbformat_minor": 1
}
